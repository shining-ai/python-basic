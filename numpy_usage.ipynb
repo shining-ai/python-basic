{
 "cells": [
  {
   "attachments": {},
   "cell_type": "markdown",
   "metadata": {},
   "source": [
    "# Python 機械学習クックブック"
   ]
  },
  {
   "cell_type": "code",
   "execution_count": 3,
   "metadata": {},
   "outputs": [],
   "source": [
    "import numpy as np"
   ]
  },
  {
   "attachments": {},
   "cell_type": "markdown",
   "metadata": {},
   "source": [
    "## 行列の作成"
   ]
  },
  {
   "cell_type": "code",
   "execution_count": 4,
   "metadata": {},
   "outputs": [
    {
     "name": "stdout",
     "output_type": "stream",
     "text": [
      "[[1 2]\n",
      " [3 4]\n",
      " [5 6]]\n"
     ]
    }
   ],
   "source": [
    "# 3✕2行列を作成\n",
    "matrix = np.array([[1, 2], [3, 4], [5, 6]])\n",
    "\n",
    "print(matrix)"
   ]
  },
  {
   "attachments": {},
   "cell_type": "markdown",
   "metadata": {},
   "source": [
    "## 要素の選択"
   ]
  },
  {
   "cell_type": "code",
   "execution_count": 11,
   "metadata": {},
   "outputs": [
    {
     "name": "stdout",
     "output_type": "stream",
     "text": [
      "3\n",
      "[1 3 5]\n"
     ]
    }
   ],
   "source": [
    "matrix = np.array([[1, 2], [3, 4], [5, 6]])\n",
    "\n",
    "# 2行目,1列目の値を取得\n",
    "print(matrix[1, 0])\n",
    "\n",
    "# スライスも使える\n",
    "print(matrix[:, 0])"
   ]
  },
  {
   "attachments": {},
   "cell_type": "markdown",
   "metadata": {},
   "source": [
    "## 行列の性質を取得する"
   ]
  },
  {
   "cell_type": "code",
   "execution_count": 9,
   "metadata": {},
   "outputs": [
    {
     "name": "stdout",
     "output_type": "stream",
     "text": [
      "(3, 2)\n",
      "6\n",
      "2\n"
     ]
    }
   ],
   "source": [
    "matrix = np.array([[1, 2], [3, 4], [5, 6]])\n",
    "\n",
    "# 行数・列数を取得\n",
    "print(matrix.shape)\n",
    "\n",
    "# 要素数(行数✕列数)を取得\n",
    "print(matrix.size)\n",
    "\n",
    "# 次元数を表示\n",
    "print(matrix.ndim)"
   ]
  },
  {
   "attachments": {},
   "cell_type": "markdown",
   "metadata": {},
   "source": [
    "## 最大値と最小値を見つける"
   ]
  },
  {
   "cell_type": "code",
   "execution_count": 16,
   "metadata": {},
   "outputs": [
    {
     "name": "stdout",
     "output_type": "stream",
     "text": [
      "1\n",
      "6\n",
      "[1 2]\n",
      "[1 3 5]\n"
     ]
    }
   ],
   "source": [
    "matrix = np.array([[1, 2], [3, 4], [5, 6]])\n",
    "\n",
    "# 最小値を取得\n",
    "print(np.min(matrix))\n",
    "\n",
    "# 最大値を取得\n",
    "print(np.max(matrix))\n",
    "\n",
    "# 各列や行に対して処理も可能\n",
    "print(np.min(matrix,axis=0))\n",
    "print(np.min(matrix,axis=1))"
   ]
  },
  {
   "attachments": {},
   "cell_type": "markdown",
   "metadata": {},
   "source": [
    "## 平均・分散・標準偏差の計算"
   ]
  },
  {
   "cell_type": "code",
   "execution_count": 18,
   "metadata": {},
   "outputs": [
    {
     "name": "stdout",
     "output_type": "stream",
     "text": [
      "3.5\n",
      "2.9166666666666665\n",
      "1.707825127659933\n",
      "[3. 4.]\n",
      "[0.25 0.25 0.25]\n"
     ]
    }
   ],
   "source": [
    "matrix = np.array([[1, 2], [3, 4], [5, 6]])\n",
    "\n",
    "# 平均値を取得\n",
    "print(np.mean(matrix))\n",
    "\n",
    "# 分散を取得\n",
    "print(np.var(matrix))\n",
    "\n",
    "# 標準偏差を算出\n",
    "print(np.std(matrix))\n",
    "\n",
    "# 各軸に対して処理も可能\n",
    "print(np.mean(matrix,axis=0))\n",
    "print(np.var(matrix,axis=1))"
   ]
  },
  {
   "attachments": {},
   "cell_type": "markdown",
   "metadata": {},
   "source": [
    "## 配列形状の変更"
   ]
  },
  {
   "cell_type": "code",
   "execution_count": 26,
   "metadata": {},
   "outputs": [
    {
     "name": "stdout",
     "output_type": "stream",
     "text": [
      "[[1 2]\n",
      " [3 4]\n",
      " [5 6]]\n",
      "[[1 2 3]\n",
      " [4 5 6]]\n"
     ]
    }
   ],
   "source": [
    "matrix = np.array([[1, 2], [3, 4], [5, 6]])\n",
    "print(matrix)\n",
    "\n",
    "# 2✕3行列に形状変換\n",
    "print(matrix.reshape(2, 3))"
   ]
  },
  {
   "attachments": {},
   "cell_type": "markdown",
   "metadata": {},
   "source": [
    "## 行列の転置"
   ]
  },
  {
   "cell_type": "code",
   "execution_count": 29,
   "metadata": {},
   "outputs": [
    {
     "name": "stdout",
     "output_type": "stream",
     "text": [
      "[[1 2]\n",
      " [3 4]\n",
      " [5 6]]\n",
      "[[1 3 5]\n",
      " [2 4 6]]\n"
     ]
    }
   ],
   "source": [
    "matrix = np.array([[1, 2], [3, 4], [5, 6]])\n",
    "print(matrix)\n",
    "\n",
    "print(matrix.T)\n"
   ]
  },
  {
   "attachments": {},
   "cell_type": "markdown",
   "metadata": {},
   "source": [
    "## 行列のフラット化"
   ]
  },
  {
   "cell_type": "code",
   "execution_count": 32,
   "metadata": {},
   "outputs": [
    {
     "name": "stdout",
     "output_type": "stream",
     "text": [
      "[1 2 3 4 5 6]\n"
     ]
    }
   ],
   "source": [
    "matrix = np.array([[1, 2], [3, 4], [5, 6]])\n",
    "print(matrix.flatten())"
   ]
  },
  {
   "attachments": {},
   "cell_type": "markdown",
   "metadata": {},
   "source": [
    "## 行列のランク"
   ]
  },
  {
   "cell_type": "code",
   "execution_count": 33,
   "metadata": {},
   "outputs": [
    {
     "name": "stdout",
     "output_type": "stream",
     "text": [
      "2\n"
     ]
    }
   ],
   "source": [
    "matrix = np.array([[1, 2], [3, 4], [5, 6]])\n",
    "print(np.linalg.matrix_rank(matrix))"
   ]
  },
  {
   "attachments": {},
   "cell_type": "markdown",
   "metadata": {},
   "source": [
    "## 行列式の計算"
   ]
  },
  {
   "cell_type": "code",
   "execution_count": 35,
   "metadata": {},
   "outputs": [
    {
     "data": {
      "text/plain": [
       "-2.0000000000000004"
      ]
     },
     "execution_count": 35,
     "metadata": {},
     "output_type": "execute_result"
    }
   ],
   "source": [
    "matrix = np.array([[1, 2], [3, 4]])\n",
    "np.linalg.det(matrix)"
   ]
  },
  {
   "attachments": {},
   "cell_type": "markdown",
   "metadata": {},
   "source": [
    "## 行列の対角要素の取得"
   ]
  },
  {
   "cell_type": "code",
   "execution_count": 37,
   "metadata": {},
   "outputs": [
    {
     "name": "stdout",
     "output_type": "stream",
     "text": [
      "[1 5 9]\n",
      "15\n"
     ]
    }
   ],
   "source": [
    "matrix = np.array([[1, 2, 3], [4, 5, 6], [7, 8, 9]])\n",
    "\n",
    "# 対角要素を取得\n",
    "print(matrix.diagonal())\n",
    "\n",
    "# 対角要素の合計を返す\n",
    "print(matrix.trace())\n"
   ]
  },
  {
   "attachments": {},
   "cell_type": "markdown",
   "metadata": {},
   "source": [
    "## 固有値・固有ベクトル"
   ]
  },
  {
   "cell_type": "code",
   "execution_count": 38,
   "metadata": {},
   "outputs": [
    {
     "name": "stdout",
     "output_type": "stream",
     "text": [
      "[ 1.61168440e+01 -1.11684397e+00 -1.30367773e-15]\n",
      "[[-0.23197069 -0.78583024  0.40824829]\n",
      " [-0.52532209 -0.08675134 -0.81649658]\n",
      " [-0.8186735   0.61232756  0.40824829]]\n"
     ]
    }
   ],
   "source": [
    "matrix = np.array([[1, 2, 3], [4, 5, 6], [7, 8, 9]])\n",
    "\n",
    "eigenvalues, eigenvectors = np.linalg.eig(matrix)\n",
    "# 固有値\n",
    "print(eigenvalues)\n",
    "\n",
    "# 固有ベクトル\n",
    "print(eigenvectors)\n"
   ]
  },
  {
   "attachments": {},
   "cell_type": "markdown",
   "metadata": {},
   "source": [
    "## 行列の計算"
   ]
  },
  {
   "cell_type": "code",
   "execution_count": 43,
   "metadata": {},
   "outputs": [
    {
     "name": "stdout",
     "output_type": "stream",
     "text": [
      "32\n",
      "[5 7 9]\n",
      "[-3 -3 -3]\n",
      "[ 4 10 18]\n"
     ]
    }
   ],
   "source": [
    "matrix_A = np.array([1, 2, 3])\n",
    "matrix_B = np.array([4, 5, 6])\n",
    "\n",
    "# 内積の計算\n",
    "print(np.dot(matrix_A, matrix_B))\n",
    "\n",
    "# 加算\n",
    "print(np.add(matrix_A, matrix_B))\n",
    "\n",
    "# 減算\n",
    "print(np.subtract(matrix_A, matrix_B))\n",
    "\n",
    "# 要素ごとの乗算\n",
    "print(matrix_A*matrix_B)\n"
   ]
  },
  {
   "attachments": {},
   "cell_type": "markdown",
   "metadata": {},
   "source": [
    "## 逆行列の算出"
   ]
  },
  {
   "cell_type": "code",
   "execution_count": 47,
   "metadata": {},
   "outputs": [
    {
     "name": "stdout",
     "output_type": "stream",
     "text": [
      "[[-2.   1. ]\n",
      " [ 1.5 -0.5]]\n"
     ]
    }
   ],
   "source": [
    "matrix = np.array([[1, 2], [3, 4]])\n",
    "\n",
    "# 逆行列の算出\n",
    "print(np.linalg.inv(matrix))"
   ]
  },
  {
   "attachments": {},
   "cell_type": "markdown",
   "metadata": {},
   "source": [
    "## 乱数の生成"
   ]
  },
  {
   "cell_type": "code",
   "execution_count": 54,
   "metadata": {},
   "outputs": [
    {
     "name": "stdout",
     "output_type": "stream",
     "text": [
      "[0.37454012 0.95071431 0.73199394 0.59865848]\n",
      "[6 9 2 6]\n",
      "[0.05808361 0.86617615 0.60111501 0.70807258]\n",
      "[-0.46947439  0.54256004 -0.46341769 -0.46572975]\n"
     ]
    }
   ],
   "source": [
    "# シード値の設定\n",
    "np.random.seed(42)\n",
    "\n",
    "# 0.0～1.0のランダムな数値を生成する\n",
    "print(np.random.random(4))\n",
    "\n",
    "# 0～10のランダムな整数値を生成する\n",
    "print(np.random.randint(0, 11, 4))\n",
    "\n",
    "# 0.0～10.0のランダムな数値を生成する\n",
    "print(np.random.uniform(0.0, 1.0, 4))\n",
    "\n",
    "# 平均0,標準偏差1の正規分布から数値を生成する\n",
    "print(np.random.normal(0, 1, 4))\n",
    "\n",
    "#"
   ]
  }
 ],
 "metadata": {
  "kernelspec": {
   "display_name": "Python 3",
   "language": "python",
   "name": "python3"
  },
  "language_info": {
   "codemirror_mode": {
    "name": "ipython",
    "version": 3
   },
   "file_extension": ".py",
   "mimetype": "text/x-python",
   "name": "python",
   "nbconvert_exporter": "python",
   "pygments_lexer": "ipython3",
   "version": "3.8.10"
  },
  "orig_nbformat": 4
 },
 "nbformat": 4,
 "nbformat_minor": 2
}

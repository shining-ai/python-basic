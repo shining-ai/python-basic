{
 "cells": [
  {
   "attachments": {},
   "cell_type": "markdown",
   "metadata": {},
   "source": [
    "# Python 機械学習クックブック"
   ]
  },
  {
   "cell_type": "code",
   "execution_count": 3,
   "metadata": {},
   "outputs": [],
   "source": [
    "import numpy as np"
   ]
  },
  {
   "attachments": {},
   "cell_type": "markdown",
   "metadata": {},
   "source": [
    "## 行列の作成"
   ]
  },
  {
   "cell_type": "code",
   "execution_count": 4,
   "metadata": {},
   "outputs": [
    {
     "name": "stdout",
     "output_type": "stream",
     "text": [
      "[[1 2]\n",
      " [3 4]\n",
      " [5 6]]\n"
     ]
    }
   ],
   "source": [
    "# 3✕2行列を作成\n",
    "matrix = np.array([[1, 2], [3, 4], [5, 6]])\n",
    "\n",
    "print(matrix)"
   ]
  },
  {
   "attachments": {},
   "cell_type": "markdown",
   "metadata": {},
   "source": [
    "## 要素の選択"
   ]
  },
  {
   "cell_type": "code",
   "execution_count": 11,
   "metadata": {},
   "outputs": [
    {
     "name": "stdout",
     "output_type": "stream",
     "text": [
      "3\n",
      "[1 3 5]\n"
     ]
    }
   ],
   "source": [
    "matrix = np.array([[1, 2], [3, 4], [5, 6]])\n",
    "\n",
    "# 2行目,1列目の値を取得\n",
    "print(matrix[1, 0])\n",
    "\n",
    "# スライスも使える\n",
    "print(matrix[:, 0])"
   ]
  },
  {
   "attachments": {},
   "cell_type": "markdown",
   "metadata": {},
   "source": [
    "## 行列の性質を取得する"
   ]
  },
  {
   "cell_type": "code",
   "execution_count": 9,
   "metadata": {},
   "outputs": [
    {
     "name": "stdout",
     "output_type": "stream",
     "text": [
      "(3, 2)\n",
      "6\n",
      "2\n"
     ]
    }
   ],
   "source": [
    "matrix = np.array([[1, 2], [3, 4], [5, 6]])\n",
    "\n",
    "# 行数・列数を取得\n",
    "print(matrix.shape)\n",
    "\n",
    "# 要素数(行数✕列数)を取得\n",
    "print(matrix.size)\n",
    "\n",
    "# 次元数を表示\n",
    "print(matrix.ndim)"
   ]
  },
  {
   "attachments": {},
   "cell_type": "markdown",
   "metadata": {},
   "source": [
    "## 最大値と最小値を見つける"
   ]
  },
  {
   "cell_type": "code",
   "execution_count": 16,
   "metadata": {},
   "outputs": [
    {
     "name": "stdout",
     "output_type": "stream",
     "text": [
      "1\n",
      "6\n",
      "[1 2]\n",
      "[1 3 5]\n"
     ]
    }
   ],
   "source": [
    "matrix = np.array([[1, 2], [3, 4], [5, 6]])\n",
    "\n",
    "# 最小値を取得\n",
    "print(np.min(matrix))\n",
    "\n",
    "# 最大値を取得\n",
    "print(np.max(matrix))\n",
    "\n",
    "# 各列や行に対して処理も可能\n",
    "print(np.min(matrix,axis=0))\n",
    "print(np.min(matrix,axis=1))"
   ]
  },
  {
   "attachments": {},
   "cell_type": "markdown",
   "metadata": {},
   "source": [
    "## 平均・分散・標準偏差の計算"
   ]
  },
  {
   "cell_type": "code",
   "execution_count": 18,
   "metadata": {},
   "outputs": [
    {
     "name": "stdout",
     "output_type": "stream",
     "text": [
      "3.5\n",
      "2.9166666666666665\n",
      "1.707825127659933\n",
      "[3. 4.]\n",
      "[0.25 0.25 0.25]\n"
     ]
    }
   ],
   "source": [
    "matrix = np.array([[1, 2], [3, 4], [5, 6]])\n",
    "\n",
    "# 平均値を取得\n",
    "print(np.mean(matrix))\n",
    "\n",
    "# 分散を取得\n",
    "print(np.var(matrix))\n",
    "\n",
    "# 標準偏差を算出\n",
    "print(np.std(matrix))\n",
    "\n",
    "# 各軸に対して処理も可能\n",
    "print(np.mean(matrix,axis=0))\n",
    "print(np.var(matrix,axis=1))"
   ]
  },
  {
   "cell_type": "markdown",
   "metadata": {},
   "source": []
  },
  {
   "cell_type": "code",
   "execution_count": null,
   "metadata": {},
   "outputs": [],
   "source": []
  }
 ],
 "metadata": {
  "kernelspec": {
   "display_name": "Python 3",
   "language": "python",
   "name": "python3"
  },
  "language_info": {
   "codemirror_mode": {
    "name": "ipython",
    "version": 3
   },
   "file_extension": ".py",
   "mimetype": "text/x-python",
   "name": "python",
   "nbconvert_exporter": "python",
   "pygments_lexer": "ipython3",
   "version": "3.8.10"
  },
  "orig_nbformat": 4
 },
 "nbformat": 4,
 "nbformat_minor": 2
}

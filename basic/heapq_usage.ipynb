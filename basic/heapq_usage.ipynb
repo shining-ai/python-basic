{
 "cells": [
  {
   "cell_type": "markdown",
   "metadata": {},
   "source": [
    "# 優先度付きキュー"
   ]
  },
  {
   "cell_type": "code",
   "execution_count": 29,
   "metadata": {},
   "outputs": [
    {
     "name": "stdout",
     "output_type": "stream",
     "text": [
      "[1, 2, 5, 4, 3]\n"
     ]
    }
   ],
   "source": [
    "import heapq\n",
    "\n",
    "# heapの作成\n",
    "my_heap = [5, 3, 1, 4, 2]\n",
    "heapq.heapify(my_heap)\n",
    "print(my_heap)"
   ]
  },
  {
   "cell_type": "code",
   "execution_count": 30,
   "metadata": {},
   "outputs": [
    {
     "name": "stdout",
     "output_type": "stream",
     "text": [
      "[1, 2, 5, 4, 3, 10]\n"
     ]
    }
   ],
   "source": [
    "# heapへの要素の追加\n",
    "heapq.heappush(my_heap, 10)\n",
    "print(my_heap)"
   ]
  },
  {
   "cell_type": "code",
   "execution_count": 31,
   "metadata": {},
   "outputs": [
    {
     "name": "stdout",
     "output_type": "stream",
     "text": [
      "[1, 2, 5, 4, 3, 10]\n"
     ]
    }
   ],
   "source": [
    "print(my_heap)\n"
   ]
  },
  {
   "cell_type": "code",
   "execution_count": 32,
   "metadata": {},
   "outputs": [
    {
     "name": "stdout",
     "output_type": "stream",
     "text": [
      "1\n",
      "[2, 3, 5, 4, 10]\n"
     ]
    }
   ],
   "source": [
    "# heapからの要素の取り出し\n",
    "tmp = heapq.heappop(my_heap)\n",
    "print(tmp)\n",
    "print(my_heap)"
   ]
  },
  {
   "cell_type": "markdown",
   "metadata": {},
   "source": [
    "## タプルを要素にする"
   ]
  },
  {
   "cell_type": "code",
   "execution_count": 18,
   "metadata": {},
   "outputs": [
    {
     "name": "stdout",
     "output_type": "stream",
     "text": [
      "[(1, 'H'), (2, 'E'), (5, 'O'), (4, 'L'), (3, 'L')]\n",
      "H\n",
      "E\n",
      "L\n",
      "L\n",
      "O\n"
     ]
    }
   ],
   "source": [
    "my_heap = [(5, 'O'), (3, 'L'), (1, 'H'), (4, 'L'), (2, 'E')]\n",
    "heapq.heapify(my_heap)\n",
    "print(my_heap)\n",
    "\n",
    "for i in range(len(my_heap)):\n",
    "    tmp = heapq.heappop(my_heap)\n",
    "    print(tmp[1])"
   ]
  },
  {
   "cell_type": "markdown",
   "metadata": {},
   "source": [
    "## 逆順で取得"
   ]
  },
  {
   "cell_type": "code",
   "execution_count": 41,
   "metadata": {},
   "outputs": [
    {
     "name": "stdout",
     "output_type": "stream",
     "text": [
      "5\n"
     ]
    }
   ],
   "source": [
    "# heapの作成\n",
    "my_heap = [5, 3, 1, 4, 2]\n",
    "\n",
    "# 要素に-1をかけてからheapにする\n",
    "for i in range(len(my_heap)):\n",
    "    my_heap[i] *= -1\n",
    "\n",
    "heapq.heapify(my_heap)\n",
    "\n",
    "# 要素を取り出すときに-1をかけて元に戻す\n",
    "tmp = heapq.heappop(my_heap) * -1\n",
    "print(tmp)"
   ]
  }
 ],
 "metadata": {
  "kernelspec": {
   "display_name": "Python 3",
   "language": "python",
   "name": "python3"
  },
  "language_info": {
   "codemirror_mode": {
    "name": "ipython",
    "version": 3
   },
   "file_extension": ".py",
   "mimetype": "text/x-python",
   "name": "python",
   "nbconvert_exporter": "python",
   "pygments_lexer": "ipython3",
   "version": "3.8.10"
  }
 },
 "nbformat": 4,
 "nbformat_minor": 2
}

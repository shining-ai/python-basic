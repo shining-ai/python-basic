{
 "cells": [
  {
   "cell_type": "markdown",
   "metadata": {},
   "source": [
    "# リストのコピー"
   ]
  },
  {
   "cell_type": "code",
   "execution_count": 2,
   "metadata": {},
   "outputs": [],
   "source": [
    "l = [1, 2, 3, [4, 5]]"
   ]
  },
  {
   "cell_type": "code",
   "execution_count": 3,
   "metadata": {},
   "outputs": [
    {
     "data": {
      "text/plain": [
       "[1, 2, 3, [4, 5]]"
      ]
     },
     "execution_count": 3,
     "metadata": {},
     "output_type": "execute_result"
    }
   ],
   "source": [
    "l_assign = l\n",
    "\n",
    "l_assign"
   ]
  },
  {
   "cell_type": "markdown",
   "metadata": {},
   "source": [
    "## 浅いコピー"
   ]
  },
  {
   "cell_type": "code",
   "execution_count": 4,
   "metadata": {},
   "outputs": [
    {
     "data": {
      "text/plain": [
       "[1, 2, 3, [4, 5]]"
      ]
     },
     "execution_count": 4,
     "metadata": {},
     "output_type": "execute_result"
    }
   ],
   "source": [
    "l_copy = l.copy()\n",
    "\n",
    "l_copy"
   ]
  },
  {
   "cell_type": "code",
   "execution_count": 6,
   "metadata": {},
   "outputs": [
    {
     "name": "stdout",
     "output_type": "stream",
     "text": [
      "[1, 2, 3, [4, 5]]\n"
     ]
    }
   ],
   "source": [
    "import copy\n",
    "\n",
    "l = [1, 2, 3, [4, 5]]\n",
    "l_shallow = copy.copy(l)\n",
    "\n",
    "print(l_shallow)"
   ]
  },
  {
   "cell_type": "code",
   "execution_count": 16,
   "metadata": {},
   "outputs": [
    {
     "name": "stdout",
     "output_type": "stream",
     "text": [
      "139699991175744 : lのアドレス\n",
      "139699991262720 : l_shallowのアドレス\n"
     ]
    }
   ],
   "source": [
    "print(f\"{id(l)} : lのアドレス\")\n",
    "print(f\"{id(l_shallow)} : l_shallowのアドレス\")"
   ]
  },
  {
   "cell_type": "code",
   "execution_count": 15,
   "metadata": {},
   "outputs": [
    {
     "name": "stdout",
     "output_type": "stream",
     "text": [
      "139699991152896 : l[3]のアドレス\n",
      "139699991152896 : l_shallow[3]のアドレス\n"
     ]
    }
   ],
   "source": [
    "print(f\"{id(l[3])} : l[3]のアドレス\")\n",
    "print(f\"{id(l_shallow[3])} : l_shallow[3]のアドレス\")"
   ]
  },
  {
   "cell_type": "code",
   "execution_count": 17,
   "metadata": {},
   "outputs": [
    {
     "name": "stdout",
     "output_type": "stream",
     "text": [
      "[100, 2, 3, [400, 5]] : lの中身\n",
      "[1, 2, 3, [400, 5]] : l_shallowの中身\n"
     ]
    }
   ],
   "source": [
    "l[0] = 100\n",
    "l[3][0] = 400\n",
    "\n",
    "print(f\"{l} : lの中身\")\n",
    "print(f\"{l_shallow} : l_shallowの中身\")"
   ]
  },
  {
   "cell_type": "markdown",
   "metadata": {},
   "source": [
    "## 深いコピー"
   ]
  },
  {
   "cell_type": "code",
   "execution_count": 8,
   "metadata": {},
   "outputs": [
    {
     "name": "stdout",
     "output_type": "stream",
     "text": [
      "[1, 2, 3, [4, 5]]\n"
     ]
    }
   ],
   "source": [
    "import copy\n",
    "\n",
    "l = [1, 2, 3, [4, 5]]\n",
    "l_deep = copy.deepcopy(l)\n",
    "\n",
    "print(l_deep)"
   ]
  },
  {
   "cell_type": "code",
   "execution_count": 9,
   "metadata": {},
   "outputs": [
    {
     "name": "stdout",
     "output_type": "stream",
     "text": [
      "139884247404800 : lのアドレス\n",
      "139884469127168 : l_deepのアドレス\n",
      "139884247489600 : l[3]のアドレス\n",
      "139884247468224 : l_deep[3]のアドレス\n"
     ]
    }
   ],
   "source": [
    "print(f\"{id(l)} : lのアドレス\")\n",
    "print(f\"{id(l_deep)} : l_deepのアドレス\")\n",
    "\n",
    "print(f\"{id(l[3])} : l[3]のアドレス\")\n",
    "print(f\"{id(l_deep[3])} : l_deep[3]のアドレス\")\n"
   ]
  },
  {
   "cell_type": "code",
   "execution_count": 10,
   "metadata": {},
   "outputs": [
    {
     "name": "stdout",
     "output_type": "stream",
     "text": [
      "[100, 2, 3, [400, 5]] : lの中身\n",
      "[1, 2, 3, [4, 5]] : l_deepの中身\n"
     ]
    }
   ],
   "source": [
    "l[0] = 100\n",
    "l[3][0] = 400\n",
    "\n",
    "print(f\"{l} : lの中身\")\n",
    "print(f\"{l_deep} : l_deepの中身\")"
   ]
  },
  {
   "cell_type": "code",
   "execution_count": 6,
   "metadata": {},
   "outputs": [
    {
     "name": "stdout",
     "output_type": "stream",
     "text": [
      "139699991175744\n",
      "139699991175744\n",
      "139699991262720\n",
      "139699990856064\n",
      "139699990809472\n"
     ]
    }
   ],
   "source": [
    "print(id(l))\n",
    "print(id(l_assign))\n",
    "print(id(l_shallow))\n",
    "print(id(l_copy))\n",
    "print(id(l_deep))"
   ]
  },
  {
   "cell_type": "code",
   "execution_count": 7,
   "metadata": {},
   "outputs": [
    {
     "name": "stdout",
     "output_type": "stream",
     "text": [
      "139699991152896\n",
      "139699991152896\n",
      "139699991152896\n",
      "139699991152896\n",
      "139699991153216\n"
     ]
    }
   ],
   "source": [
    "print(id(l[3]))\n",
    "print(id(l_assign[3]))\n",
    "print(id(l_shallow[3]))\n",
    "print(id(l_copy[3]))\n",
    "print(id(l_deep[3]))"
   ]
  },
  {
   "cell_type": "code",
   "execution_count": 8,
   "metadata": {},
   "outputs": [
    {
     "name": "stdout",
     "output_type": "stream",
     "text": [
      "[100, 2, 3, [4, 5]]\n",
      "[100, 2, 3, [4, 5]]\n",
      "[1, 2, 3, [4, 5]]\n",
      "[1, 2, 3, [4, 5]]\n",
      "[1, 2, 3, [4, 5]]\n"
     ]
    }
   ],
   "source": [
    "l[0] = 100\n",
    "print(l)\n",
    "print(l_assign)\n",
    "print(l_shallow)\n",
    "print(l_copy)\n",
    "print(l_deep)"
   ]
  }
 ],
 "metadata": {
  "kernelspec": {
   "display_name": "Python 3",
   "language": "python",
   "name": "python3"
  },
  "language_info": {
   "codemirror_mode": {
    "name": "ipython",
    "version": 3
   },
   "file_extension": ".py",
   "mimetype": "text/x-python",
   "name": "python",
   "nbconvert_exporter": "python",
   "pygments_lexer": "ipython3",
   "version": "3.8.10"
  }
 },
 "nbformat": 4,
 "nbformat_minor": 2
}

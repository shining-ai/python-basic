{
 "cells": [
  {
   "cell_type": "markdown",
   "metadata": {},
   "source": [
    "# デコレータに関する説明"
   ]
  },
  {
   "cell_type": "code",
   "execution_count": 23,
   "metadata": {},
   "outputs": [
    {
     "name": "stdout",
     "output_type": "stream",
     "text": [
      "start\n",
      "Hello!\n",
      "end\n"
     ]
    }
   ],
   "source": [
    "def my_decorator(func):\n",
    "    def wrapper(*args, **kwargs):\n",
    "        print(\"start\")\n",
    "        func(*args, **kwargs)\n",
    "        print(\"end\")\n",
    "    return wrapper\n",
    "\n",
    "@my_decorator\n",
    "def say_hello():\n",
    "    print(\"Hello!\")\n",
    "\n",
    "say_hello()\n"
   ]
  },
  {
   "cell_type": "code",
   "execution_count": 10,
   "metadata": {},
   "outputs": [
    {
     "name": "stdout",
     "output_type": "stream",
     "text": [
      "func1の実行\n"
     ]
    }
   ],
   "source": [
    "def func1():\n",
    "    print(\"func1の実行\")\n",
    "\n",
    "func1()"
   ]
  },
  {
   "cell_type": "code",
   "execution_count": 24,
   "metadata": {},
   "outputs": [
    {
     "name": "stdout",
     "output_type": "stream",
     "text": [
      "start\n",
      "func1の実行\n",
      "end\n"
     ]
    }
   ],
   "source": [
    "my_decorator(func1)()"
   ]
  },
  {
   "cell_type": "code",
   "execution_count": 11,
   "metadata": {},
   "outputs": [
    {
     "name": "stdout",
     "output_type": "stream",
     "text": [
      "func1の実行\n"
     ]
    }
   ],
   "source": [
    "def func2(f):\n",
    "    f()\n",
    "\n",
    "func2(func1)"
   ]
  },
  {
   "cell_type": "code",
   "execution_count": 12,
   "metadata": {},
   "outputs": [
    {
     "name": "stdout",
     "output_type": "stream",
     "text": [
      "<function func1 at 0x7fc7805d2940>\n",
      "func1の実行\n",
      "None\n"
     ]
    }
   ],
   "source": [
    "print(func1) # オブジェクトのアドレス\n",
    "print(func1()) # 関数の呼び出し"
   ]
  },
  {
   "cell_type": "code",
   "execution_count": 14,
   "metadata": {},
   "outputs": [
    {
     "name": "stdout",
     "output_type": "stream",
     "text": [
      "start\n",
      "func1の実行\n",
      "end\n"
     ]
    }
   ],
   "source": [
    "def func3(f):\n",
    "    def wrapper():\n",
    "        print(\"start\")\n",
    "        f()\n",
    "        print(\"end\")\n",
    "    return wrapper\n",
    "\n",
    "func = func3(func1)\n",
    "func()"
   ]
  },
  {
   "cell_type": "code",
   "execution_count": 15,
   "metadata": {},
   "outputs": [
    {
     "name": "stdout",
     "output_type": "stream",
     "text": [
      "start\n",
      "func1の実行\n",
      "end\n"
     ]
    }
   ],
   "source": [
    "func3(func1)()"
   ]
  },
  {
   "cell_type": "code",
   "execution_count": 17,
   "metadata": {},
   "outputs": [
    {
     "name": "stdout",
     "output_type": "stream",
     "text": [
      "start\n",
      "func4の実行\n",
      "end\n"
     ]
    }
   ],
   "source": [
    "@func3\n",
    "def func4():\n",
    "    print(\"func4の実行\")\n",
    "\n",
    "func4()"
   ]
  },
  {
   "cell_type": "markdown",
   "metadata": {},
   "source": [
    "## 引数を追加"
   ]
  },
  {
   "cell_type": "code",
   "execution_count": 18,
   "metadata": {},
   "outputs": [],
   "source": [
    "def func5(f):\n",
    "    def wrapper(*args, **kwargs):\n",
    "        print(\"start\")\n",
    "        result = f(*args, **kwargs)\n",
    "        print(\"end\")\n",
    "        return result\n",
    "    return wrapper"
   ]
  },
  {
   "cell_type": "code",
   "execution_count": 20,
   "metadata": {},
   "outputs": [
    {
     "name": "stdout",
     "output_type": "stream",
     "text": [
      "start\n",
      "func6の実行: 引数は10\n",
      "end\n"
     ]
    }
   ],
   "source": [
    "@func5\n",
    "def func6(x):\n",
    "    print(f\"func6の実行: 引数は{x}\")\n",
    "\n",
    "func6(10)\n"
   ]
  },
  {
   "cell_type": "code",
   "execution_count": 21,
   "metadata": {},
   "outputs": [
    {
     "name": "stdout",
     "output_type": "stream",
     "text": [
      "start\n",
      "func7の実行\n",
      "end\n"
     ]
    }
   ],
   "source": [
    "@func5\n",
    "def func7():\n",
    "    print(\"func7の実行\")\n",
    "\n",
    "func7()"
   ]
  }
 ],
 "metadata": {
  "kernelspec": {
   "display_name": "Python 3",
   "language": "python",
   "name": "python3"
  },
  "language_info": {
   "codemirror_mode": {
    "name": "ipython",
    "version": 3
   },
   "file_extension": ".py",
   "mimetype": "text/x-python",
   "name": "python",
   "nbconvert_exporter": "python",
   "pygments_lexer": "ipython3",
   "version": "3.8.10"
  }
 },
 "nbformat": 4,
 "nbformat_minor": 2
}

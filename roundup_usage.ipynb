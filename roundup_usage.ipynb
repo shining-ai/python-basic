{
 "cells": [
  {
   "cell_type": "markdown",
   "metadata": {},
   "source": [
    "# 切り上げ・切り捨てに関する挙動の確認"
   ]
  },
  {
   "cell_type": "code",
   "execution_count": 2,
   "metadata": {},
   "outputs": [],
   "source": [
    "import math\n",
    "from decimal import Decimal, ROUND_HALF_UP"
   ]
  },
  {
   "cell_type": "code",
   "execution_count": 4,
   "metadata": {},
   "outputs": [
    {
     "name": "stdout",
     "output_type": "stream",
     "text": [
      "3\n",
      "2\n",
      "2\n",
      "2\n",
      "2\n",
      "2\n"
     ]
    }
   ],
   "source": [
    "R = 2.2\n",
    "\n",
    "round_up = math.ceil(R)\n",
    "round_down = math.floor(R)\n",
    "int_R = int(R)\n",
    "format_R = \"{:.0f}\".format(R)\n",
    "round_R = round(R)\n",
    "rounding_off = Decimal(str(R)).quantize(Decimal(\"0\"), rounding=ROUND_HALF_UP)\n",
    "\n",
    "print(round_up)\n",
    "print(round_down)\n",
    "print(int_R)\n",
    "print(format_R)\n",
    "print(round_R)\n",
    "print(rounding_off)"
   ]
  },
  {
   "cell_type": "code",
   "execution_count": 5,
   "metadata": {},
   "outputs": [
    {
     "name": "stdout",
     "output_type": "stream",
     "text": [
      "3\n",
      "2\n",
      "2\n",
      "2\n",
      "2\n",
      "3\n"
     ]
    }
   ],
   "source": [
    "R = 2.5\n",
    "\n",
    "round_up = math.ceil(R)\n",
    "round_down = math.floor(R)\n",
    "int_R = int(R)\n",
    "format_R = \"{:.0f}\".format(R)\n",
    "round_R = round(R)\n",
    "rounding_off = Decimal(str(R)).quantize(Decimal(\"0\"), rounding=ROUND_HALF_UP)\n",
    "\n",
    "print(round_up)\n",
    "print(round_down)\n",
    "print(int_R)\n",
    "print(format_R)\n",
    "print(round_R)\n",
    "print(rounding_off)"
   ]
  },
  {
   "cell_type": "code",
   "execution_count": 6,
   "metadata": {},
   "outputs": [
    {
     "name": "stdout",
     "output_type": "stream",
     "text": [
      "-2\n",
      "-3\n",
      "-2\n",
      "-2\n",
      "-2\n",
      "-2\n"
     ]
    }
   ],
   "source": [
    "R = -2.2\n",
    "\n",
    "round_up = math.ceil(R)\n",
    "round_down = math.floor(R)\n",
    "int_R = int(R)\n",
    "format_R = \"{:.0f}\".format(R)\n",
    "round_R = round(R)\n",
    "rounding_off = Decimal(str(R)).quantize(Decimal(\"0\"), rounding=ROUND_HALF_UP)\n",
    "\n",
    "print(round_up)\n",
    "print(round_down)\n",
    "print(int_R)\n",
    "print(format_R)\n",
    "print(round_R)\n",
    "print(rounding_off)"
   ]
  },
  {
   "cell_type": "code",
   "execution_count": 7,
   "metadata": {},
   "outputs": [
    {
     "name": "stdout",
     "output_type": "stream",
     "text": [
      "-2\n",
      "-3\n",
      "-2\n",
      "-2\n",
      "-2\n",
      "-3\n"
     ]
    }
   ],
   "source": [
    "R = -2.5\n",
    "\n",
    "round_up = math.ceil(R)\n",
    "round_down = math.floor(R)\n",
    "int_R = int(R)\n",
    "format_R = \"{:.0f}\".format(R)\n",
    "round_R = round(R)\n",
    "rounding_off = Decimal(str(R)).quantize(Decimal(\"0\"), rounding=ROUND_HALF_UP)\n",
    "\n",
    "print(round_up)\n",
    "print(round_down)\n",
    "print(int_R)\n",
    "print(format_R)\n",
    "print(round_R)\n",
    "print(rounding_off)"
   ]
  },
  {
   "cell_type": "markdown",
   "metadata": {},
   "source": [
    "## math.ceilの挙動（切り上げ）"
   ]
  },
  {
   "cell_type": "code",
   "execution_count": 17,
   "metadata": {},
   "outputs": [
    {
     "name": "stdout",
     "output_type": "stream",
     "text": [
      "元の値：1.2 切り上げ：2\n",
      "元の値：1.8 切り上げ：2\n"
     ]
    }
   ],
   "source": [
    "import math\n",
    "\n",
    "R = 1.2\n",
    "round_up = math.ceil(R)\n",
    "print(f\"元の値：{R} 切り上げ：{round_up}\")\n",
    "\n",
    "R = 1.8\n",
    "round_up = math.ceil(R)\n",
    "print(f\"元の値：{R} 切り上げ：{round_up}\")"
   ]
  },
  {
   "cell_type": "code",
   "execution_count": 18,
   "metadata": {},
   "outputs": [
    {
     "name": "stdout",
     "output_type": "stream",
     "text": [
      "元の値：-3.5 切り上げ：-3\n",
      "元の値：-2.5 切り上げ：-2\n",
      "元の値：-1.5 切り上げ：-1\n",
      "元の値：-0.5 切り上げ：0\n",
      "元の値：0.5 切り上げ：1\n",
      "元の値：1.5 切り上げ：2\n",
      "元の値：2.5 切り上げ：3\n",
      "元の値：3.5 切り上げ：4\n"
     ]
    }
   ],
   "source": [
    "R = -3.5\n",
    "for i in range(8):\n",
    "    round_up = math.ceil(R + i)\n",
    "    print(f\"元の値：{R + i} 切り上げ：{round_up}\")"
   ]
  },
  {
   "cell_type": "code",
   "execution_count": 22,
   "metadata": {},
   "outputs": [
    {
     "ename": "TypeError",
     "evalue": "ceil() takes exactly one argument (2 given)",
     "output_type": "error",
     "traceback": [
      "\u001b[0;31m---------------------------------------------------------------------------\u001b[0m",
      "\u001b[0;31mTypeError\u001b[0m                                 Traceback (most recent call last)",
      "Input \u001b[0;32mIn [22]\u001b[0m, in \u001b[0;36m<cell line: 2>\u001b[0;34m()\u001b[0m\n\u001b[1;32m      1\u001b[0m R \u001b[38;5;241m=\u001b[39m \u001b[38;5;241m123.456\u001b[39m\n\u001b[0;32m----> 2\u001b[0m round_up \u001b[38;5;241m=\u001b[39m \u001b[43mmath\u001b[49m\u001b[38;5;241;43m.\u001b[39;49m\u001b[43mceil\u001b[49m\u001b[43m(\u001b[49m\u001b[43mR\u001b[49m\u001b[43m,\u001b[49m\u001b[43m \u001b[49m\u001b[38;5;241;43m2\u001b[39;49m\u001b[43m)\u001b[49m\n\u001b[1;32m      3\u001b[0m \u001b[38;5;28mprint\u001b[39m(\u001b[38;5;124mf\u001b[39m\u001b[38;5;124m\"\u001b[39m\u001b[38;5;124m元の値：\u001b[39m\u001b[38;5;132;01m{\u001b[39;00mR\u001b[38;5;132;01m}\u001b[39;00m\u001b[38;5;124m 切り上げ：\u001b[39m\u001b[38;5;132;01m{\u001b[39;00mround_up\u001b[38;5;132;01m}\u001b[39;00m\u001b[38;5;124m\"\u001b[39m)\n",
      "\u001b[0;31mTypeError\u001b[0m: ceil() takes exactly one argument (2 given)"
     ]
    }
   ],
   "source": [
    "R = 123.456\n",
    "round_up = math.ceil(R, 2)\n",
    "print(f\"元の値：{R} 切り上げ：{round_up}\")"
   ]
  },
  {
   "cell_type": "markdown",
   "metadata": {},
   "source": [
    "## math.floorの挙動（切り捨て）"
   ]
  },
  {
   "cell_type": "code",
   "execution_count": 19,
   "metadata": {},
   "outputs": [
    {
     "name": "stdout",
     "output_type": "stream",
     "text": [
      "元の値：1.2 切り捨て：1\n",
      "元の値：1.8 切り捨て：1\n"
     ]
    }
   ],
   "source": [
    "import math\n",
    "\n",
    "R = 1.2\n",
    "round_down = math.floor(R)\n",
    "print(f\"元の値：{R} 切り捨て：{round_down}\")\n",
    "\n",
    "R = 1.8\n",
    "round_down = math.floor(R)\n",
    "print(f\"元の値：{R} 切り捨て：{round_down}\")"
   ]
  },
  {
   "cell_type": "code",
   "execution_count": 20,
   "metadata": {},
   "outputs": [
    {
     "name": "stdout",
     "output_type": "stream",
     "text": [
      "元の値：-3.5 切り捨て：-4\n",
      "元の値：-2.5 切り捨て：-3\n",
      "元の値：-1.5 切り捨て：-2\n",
      "元の値：-0.5 切り捨て：-1\n",
      "元の値：0.5 切り捨て：0\n",
      "元の値：1.5 切り捨て：1\n",
      "元の値：2.5 切り捨て：2\n",
      "元の値：3.5 切り捨て：3\n"
     ]
    }
   ],
   "source": [
    "R = -3.5\n",
    "for i in range(8):\n",
    "    round_down = math.floor(R + i)\n",
    "    print(f\"元の値：{R + i} 切り捨て：{round_down}\")"
   ]
  },
  {
   "cell_type": "markdown",
   "metadata": {},
   "source": [
    "## intの挙動（切り捨て）"
   ]
  },
  {
   "cell_type": "code",
   "execution_count": 23,
   "metadata": {},
   "outputs": [
    {
     "name": "stdout",
     "output_type": "stream",
     "text": [
      "元の値：1.2 切り捨て：1\n",
      "元の値：1.8 切り捨て：1\n"
     ]
    }
   ],
   "source": [
    "R = 1.2\n",
    "int_R = int(R)\n",
    "print(f\"元の値：{R} 切り捨て：{int_R}\")\n",
    "\n",
    "R = 1.8\n",
    "int_R = int(R)\n",
    "print(f\"元の値：{R} 切り捨て：{int_R}\")"
   ]
  },
  {
   "cell_type": "code",
   "execution_count": 25,
   "metadata": {},
   "outputs": [
    {
     "name": "stdout",
     "output_type": "stream",
     "text": [
      "元の値：-3.5 切り捨て：-3\n",
      "元の値：-2.5 切り捨て：-2\n",
      "元の値：-1.5 切り捨て：-1\n",
      "元の値：-0.5 切り捨て：0\n",
      "元の値：0.5 切り捨て：0\n",
      "元の値：1.5 切り捨て：1\n",
      "元の値：2.5 切り捨て：2\n",
      "元の値：3.5 切り捨て：3\n"
     ]
    }
   ],
   "source": [
    "R = -3.5\n",
    "for i in range(8):\n",
    "    int_R = int(R + i)\n",
    "    print(f\"元の値：{R + i} 切り捨て：{int_R}\")"
   ]
  },
  {
   "cell_type": "markdown",
   "metadata": {},
   "source": [
    "## roundの挙動（四捨五入）"
   ]
  },
  {
   "cell_type": "code",
   "execution_count": 30,
   "metadata": {},
   "outputs": [
    {
     "name": "stdout",
     "output_type": "stream",
     "text": [
      "元の値：1.2 四捨五入：1\n",
      "元の値：1.8 四捨五入：2\n"
     ]
    }
   ],
   "source": [
    "R = 1.2\n",
    "round_R = round(R)\n",
    "print(f\"元の値：{R} 四捨五入：{round_R}\")\n",
    "\n",
    "R = 1.8\n",
    "round_R = round(R)\n",
    "print(f\"元の値：{R} 四捨五入：{round_R}\")"
   ]
  },
  {
   "cell_type": "code",
   "execution_count": 31,
   "metadata": {},
   "outputs": [
    {
     "name": "stdout",
     "output_type": "stream",
     "text": [
      "元の値：-3.5 四捨五入：-4\n",
      "元の値：-2.5 四捨五入：-2\n",
      "元の値：-1.5 四捨五入：-2\n",
      "元の値：-0.5 四捨五入：0\n",
      "元の値：0.5 四捨五入：0\n",
      "元の値：1.5 四捨五入：2\n",
      "元の値：2.5 四捨五入：2\n",
      "元の値：3.5 四捨五入：4\n"
     ]
    }
   ],
   "source": [
    "R = -3.5\n",
    "for i in range(8):\n",
    "    round_R = round(R + i)\n",
    "    print(f\"元の値：{R + i} 四捨五入：{round_R}\")"
   ]
  },
  {
   "cell_type": "code",
   "execution_count": 38,
   "metadata": {},
   "outputs": [
    {
     "name": "stdout",
     "output_type": "stream",
     "text": [
      "元の値：123.456 四捨五入：0.0\n",
      "元の値：123.456 四捨五入：100.0\n",
      "元の値：123.456 四捨五入：120.0\n",
      "元の値：123.456 四捨五入：123.0\n",
      "元の値：123.456 四捨五入：123.5\n",
      "元の値：123.456 四捨五入：123.46\n",
      "元の値：123.456 四捨五入：123.456\n"
     ]
    }
   ],
   "source": [
    "R = 123.456\n",
    "print(f\"元の値：{R} 四捨五入：{round(R, -3)}\")\n",
    "print(f\"元の値：{R} 四捨五入：{round(R, -2)}\")\n",
    "print(f\"元の値：{R} 四捨五入：{round(R, -1)}\")\n",
    "print(f\"元の値：{R} 四捨五入：{round(R, 0)}\")\n",
    "print(f\"元の値：{R} 四捨五入：{round(R, 1)}\")\n",
    "print(f\"元の値：{R} 四捨五入：{round(R, 2)}\")\n",
    "print(f\"元の値：{R} 四捨五入：{round(R, 3)}\")\n"
   ]
  },
  {
   "cell_type": "markdown",
   "metadata": {},
   "source": [
    "## Decimalの挙動（四捨五入）"
   ]
  },
  {
   "cell_type": "code",
   "execution_count": 42,
   "metadata": {},
   "outputs": [
    {
     "name": "stdout",
     "output_type": "stream",
     "text": [
      "元の値：1.2 四捨五入：1\n",
      "元の値：1.8 四捨五入：2\n"
     ]
    }
   ],
   "source": [
    "from decimal import Decimal, ROUND_HALF_UP\n",
    "\n",
    "R = 1.2\n",
    "rounding_off = Decimal(str(R)).quantize(Decimal(\"0\"), rounding=ROUND_HALF_UP)\n",
    "print(f\"元の値：{R} 四捨五入：{rounding_off}\")\n",
    "\n",
    "R = 1.8\n",
    "rounding_off = Decimal(str(R)).quantize(Decimal(\"0\"), rounding=ROUND_HALF_UP)\n",
    "print(f\"元の値：{R} 四捨五入：{rounding_off}\")\n"
   ]
  },
  {
   "cell_type": "code",
   "execution_count": 46,
   "metadata": {},
   "outputs": [
    {
     "name": "stdout",
     "output_type": "stream",
     "text": [
      "元の値：-3.5 四捨五入：-4\n",
      "元の値：-2.5 四捨五入：-3\n",
      "元の値：-1.5 四捨五入：-2\n",
      "元の値：-0.5 四捨五入：-1\n",
      "元の値：0.5 四捨五入：1\n",
      "元の値：1.5 四捨五入：2\n",
      "元の値：2.5 四捨五入：3\n",
      "元の値：3.5 四捨五入：4\n"
     ]
    }
   ],
   "source": [
    "R = -3.5\n",
    "for i in range(8):\n",
    "    rounding_off = Decimal(str(R + i)).quantize(\n",
    "        Decimal(\"0\"), rounding=ROUND_HALF_UP\n",
    "    )\n",
    "    print(f\"元の値：{R + i} 四捨五入：{rounding_off}\")"
   ]
  },
  {
   "cell_type": "code",
   "execution_count": 67,
   "metadata": {},
   "outputs": [
    {
     "name": "stdout",
     "output_type": "stream",
     "text": [
      "元の値：123.456 四捨五入：123\n",
      "元の値：123.456 四捨五入：123.5\n",
      "元の値：123.456 四捨五入：123.46\n",
      "元の値：123.456 四捨五入：123.456\n"
     ]
    }
   ],
   "source": [
    "R = 123.456\n",
    "\n",
    "rounding_off = Decimal(str(R)).quantize(\n",
    "        Decimal(\"0\"), rounding=ROUND_HALF_UP\n",
    "    )\n",
    "print(f\"元の値：{R} 四捨五入：{rounding_off}\")\n",
    "\n",
    "rounding_off = Decimal(str(R)).quantize(\n",
    "        Decimal(\"0.1\"), rounding=ROUND_HALF_UP\n",
    "    )\n",
    "print(f\"元の値：{R} 四捨五入：{rounding_off}\")\n",
    "\n",
    "rounding_off = Decimal(str(R)).quantize(\n",
    "        Decimal(\"0.01\"), rounding=ROUND_HALF_UP\n",
    "    )\n",
    "print(f\"元の値：{R} 四捨五入：{rounding_off}\")\n",
    "\n",
    "\n"
   ]
  }
 ],
 "metadata": {
  "kernelspec": {
   "display_name": "Python 3",
   "language": "python",
   "name": "python3"
  },
  "language_info": {
   "codemirror_mode": {
    "name": "ipython",
    "version": 3
   },
   "file_extension": ".py",
   "mimetype": "text/x-python",
   "name": "python",
   "nbconvert_exporter": "python",
   "pygments_lexer": "ipython3",
   "version": "3.8.10"
  }
 },
 "nbformat": 4,
 "nbformat_minor": 2
}

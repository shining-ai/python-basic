{
 "cells": [
  {
   "attachments": {},
   "cell_type": "markdown",
   "metadata": {},
   "source": [
    "# Python機械学習クックブック"
   ]
  },
  {
   "cell_type": "code",
   "execution_count": 1,
   "metadata": {},
   "outputs": [],
   "source": [
    "import numpy as np\n",
    "import pandas as pd"
   ]
  },
  {
   "attachments": {},
   "cell_type": "markdown",
   "metadata": {},
   "source": [
    "## 文字列の日次データへの変換"
   ]
  },
  {
   "cell_type": "code",
   "execution_count": 9,
   "metadata": {},
   "outputs": [
    {
     "data": {
      "text/plain": [
       "[Timestamp('2005-04-03 23:35:00'),\n",
       " Timestamp('2012-05-23 01:03:00'),\n",
       " Timestamp('2009-08-04 21:09:00')]"
      ]
     },
     "execution_count": 9,
     "metadata": {},
     "output_type": "execute_result"
    }
   ],
   "source": [
    "# 文字列を作成\n",
    "date_strings = np.array(\n",
    "    [\n",
    "        \"03-04-2005 11:35 PM\",\n",
    "        \"23-05-2012 1:03 AM\",\n",
    "        \"04-08-2009 09:09 PM\",\n",
    "    ]\n",
    ")\n",
    "\n",
    "# 日次データに変換\n",
    "[pd.to_datetime(date,format=\"%d-%m-%Y %I:%M %p\") for date in date_strings]\n"
   ]
  },
  {
   "cell_type": "code",
   "execution_count": 10,
   "metadata": {},
   "outputs": [
    {
     "data": {
      "text/plain": [
       "[Timestamp('2005-04-03 23:35:00'),\n",
       " Timestamp('2012-05-23 01:03:00'),\n",
       " Timestamp('2009-08-04 21:09:00'),\n",
       " NaT]"
      ]
     },
     "execution_count": 10,
     "metadata": {},
     "output_type": "execute_result"
    }
   ],
   "source": [
    "# エラー処理を追加\n",
    "date_strings = np.array(\n",
    "    [\n",
    "        \"03-04-2005 11:35 PM\",\n",
    "        \"23-05-2012 1:03 AM\",\n",
    "        \"04-08-2009 09:09 PM\",\n",
    "        \"04-08-2009 09:09PM\",\n",
    "    ]\n",
    ")\n",
    "[pd.to_datetime(date,format=\"%d-%m-%Y %I:%M %p\",errors=\"coerce\") for date in date_strings]"
   ]
  },
  {
   "cell_type": "code",
   "execution_count": null,
   "metadata": {},
   "outputs": [],
   "source": [
    "# %Y : 4桁の年。\n",
    "# %m : 月。0パディ8ング\n",
    "# %d : 日付。0パディング\n",
    "# %H : 時(24時制)。ゼロパディング\n",
    "# %I : 時(12時制)。ゼロパディング\n",
    "# %p : AMもしくはPM\n",
    "# %M : 分。ゼロパディング\n",
    "# %S : 秒。ゼロパディング"
   ]
  }
 ],
 "metadata": {
  "kernelspec": {
   "display_name": "Python 3",
   "language": "python",
   "name": "python3"
  },
  "language_info": {
   "codemirror_mode": {
    "name": "ipython",
    "version": 3
   },
   "file_extension": ".py",
   "mimetype": "text/x-python",
   "name": "python",
   "nbconvert_exporter": "python",
   "pygments_lexer": "ipython3",
   "version": "3.8.10"
  },
  "orig_nbformat": 4
 },
 "nbformat": 4,
 "nbformat_minor": 2
}

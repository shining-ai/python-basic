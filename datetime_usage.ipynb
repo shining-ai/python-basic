{
 "cells": [
  {
   "attachments": {},
   "cell_type": "markdown",
   "metadata": {},
   "source": [
    "# Python機械学習クックブック"
   ]
  },
  {
   "cell_type": "code",
   "execution_count": 2,
   "metadata": {},
   "outputs": [],
   "source": [
    "import numpy as np\n",
    "import pandas as pd"
   ]
  },
  {
   "attachments": {},
   "cell_type": "markdown",
   "metadata": {},
   "source": [
    "## 文字列の日次データへの変換"
   ]
  },
  {
   "cell_type": "code",
   "execution_count": 9,
   "metadata": {},
   "outputs": [
    {
     "data": {
      "text/plain": [
       "[Timestamp('2005-04-03 23:35:00'),\n",
       " Timestamp('2012-05-23 01:03:00'),\n",
       " Timestamp('2009-08-04 21:09:00')]"
      ]
     },
     "execution_count": 9,
     "metadata": {},
     "output_type": "execute_result"
    }
   ],
   "source": [
    "# 文字列を作成\n",
    "date_strings = np.array(\n",
    "    [\n",
    "        \"03-04-2005 11:35 PM\",\n",
    "        \"23-05-2012 1:03 AM\",\n",
    "        \"04-08-2009 09:09 PM\",\n",
    "    ]\n",
    ")\n",
    "\n",
    "# 日次データに変換\n",
    "[pd.to_datetime(date,format=\"%d-%m-%Y %I:%M %p\") for date in date_strings]\n"
   ]
  },
  {
   "cell_type": "code",
   "execution_count": 10,
   "metadata": {},
   "outputs": [
    {
     "data": {
      "text/plain": [
       "[Timestamp('2005-04-03 23:35:00'),\n",
       " Timestamp('2012-05-23 01:03:00'),\n",
       " Timestamp('2009-08-04 21:09:00'),\n",
       " NaT]"
      ]
     },
     "execution_count": 10,
     "metadata": {},
     "output_type": "execute_result"
    }
   ],
   "source": [
    "# エラー処理を追加\n",
    "date_strings = np.array(\n",
    "    [\n",
    "        \"03-04-2005 11:35 PM\",\n",
    "        \"23-05-2012 1:03 AM\",\n",
    "        \"04-08-2009 09:09 PM\",\n",
    "        \"04-08-2009 09:09PM\",\n",
    "    ]\n",
    ")\n",
    "[pd.to_datetime(date,format=\"%d-%m-%Y %I:%M %p\",errors=\"coerce\") for date in date_strings]"
   ]
  },
  {
   "cell_type": "code",
   "execution_count": 11,
   "metadata": {},
   "outputs": [],
   "source": [
    "# %Y : 4桁の年。\n",
    "# %m : 月。0パディ8ング\n",
    "# %d : 日付。0パディング\n",
    "# %H : 時(24時制)。ゼロパディング\n",
    "# %I : 時(12時制)。ゼロパディング\n",
    "# %p : AMもしくはPM\n",
    "# %M : 分。ゼロパディング\n",
    "# %S : 秒。ゼロパディング"
   ]
  },
  {
   "attachments": {},
   "cell_type": "markdown",
   "metadata": {},
   "source": [
    "## タイムゾーンの取り扱い"
   ]
  },
  {
   "cell_type": "code",
   "execution_count": 8,
   "metadata": {},
   "outputs": [
    {
     "name": "stdout",
     "output_type": "stream",
     "text": [
      "2015-03-31 01:16:49\n",
      "2015-03-31 01:16:49+01:00\n",
      "2015-03-31 01:16:49+09:00\n"
     ]
    }
   ],
   "source": [
    "# 日時を作成\n",
    "date = pd.Timestamp(\"2015-03-31 01:16:49\")\n",
    "print(date)\n",
    "\n",
    "# タイムゾーンを追加\n",
    "date_in_london = date.tz_localize(\"Europe/London\")\n",
    "print(date_in_london)\n",
    "\n",
    "# タイムゾーンを変更\n",
    "date_in_tokyo = date_in_london.tz_convert(\"Asia/Tokyo\")\n",
    "print(date_in_tokyo)"
   ]
  },
  {
   "attachments": {},
   "cell_type": "markdown",
   "metadata": {},
   "source": [
    "## 日時によるデータの抽出"
   ]
  },
  {
   "cell_type": "code",
   "execution_count": 22,
   "metadata": {},
   "outputs": [
    {
     "name": "stdout",
     "output_type": "stream",
     "text": [
      "                     date\n",
      "0     2001-01-01 00:00:00\n",
      "1     2001-01-01 01:00:00\n",
      "2     2001-01-01 02:00:00\n",
      "3     2001-01-01 03:00:00\n",
      "4     2001-01-01 04:00:00\n",
      "...                   ...\n",
      "99995 2012-05-29 11:00:00\n",
      "99996 2012-05-29 12:00:00\n",
      "99997 2012-05-29 13:00:00\n",
      "99998 2012-05-29 14:00:00\n",
      "99999 2012-05-29 15:00:00\n",
      "\n",
      "[100000 rows x 1 columns]\n",
      "                    date\n",
      "8762 2002-01-01 02:00:00\n",
      "8763 2002-01-01 03:00:00\n",
      "8764 2002-01-01 04:00:00\n",
      "                                   date\n",
      "date                                   \n",
      "2002-01-01 01:00:00 2002-01-01 01:00:00\n",
      "2002-01-01 02:00:00 2002-01-01 02:00:00\n",
      "2002-01-01 03:00:00 2002-01-01 03:00:00\n",
      "2002-01-01 04:00:00 2002-01-01 04:00:00\n"
     ]
    }
   ],
   "source": [
    "# データフレームを作成\n",
    "df = pd.DataFrame()\n",
    "\n",
    "# 日時データを作成\n",
    "df[\"date\"] = pd.date_range(\"1/1/2001\", periods=100000, freq=\"H\")\n",
    "print(df)\n",
    "\n",
    "# 2つの日時の間のデータを抽出\n",
    "print(df[(df[\"date\"] > \"2002-1-1 01:00:00\") & (df[\"date\"] <= \"2002-1-1 04:00:00\")])\n",
    "\n",
    "# locを使って同じことを行う\n",
    "df.set_index(df[\"date\"], inplace=True)\n",
    "print(df.loc[\"2002-1-1 01:00:00\":\"2002-1-1 04:00:00\"])"
   ]
  },
  {
   "attachments": {},
   "cell_type": "markdown",
   "metadata": {},
   "source": [
    "## 日付を複数の特徴量に分解"
   ]
  },
  {
   "cell_type": "code",
   "execution_count": 39,
   "metadata": {},
   "outputs": [
    {
     "data": {
      "text/html": [
       "<div>\n",
       "<style scoped>\n",
       "    .dataframe tbody tr th:only-of-type {\n",
       "        vertical-align: middle;\n",
       "    }\n",
       "\n",
       "    .dataframe tbody tr th {\n",
       "        vertical-align: top;\n",
       "    }\n",
       "\n",
       "    .dataframe thead th {\n",
       "        text-align: right;\n",
       "    }\n",
       "</style>\n",
       "<table border=\"1\" class=\"dataframe\">\n",
       "  <thead>\n",
       "    <tr style=\"text-align: right;\">\n",
       "      <th></th>\n",
       "      <th>date</th>\n",
       "      <th>year</th>\n",
       "      <th>month</th>\n",
       "      <th>day</th>\n",
       "      <th>hour</th>\n",
       "      <th>minute</th>\n",
       "      <th>second</th>\n",
       "      <th>weekday</th>\n",
       "    </tr>\n",
       "  </thead>\n",
       "  <tbody>\n",
       "    <tr>\n",
       "      <th>0</th>\n",
       "      <td>2001-01-01</td>\n",
       "      <td>2001</td>\n",
       "      <td>1</td>\n",
       "      <td>1</td>\n",
       "      <td>0</td>\n",
       "      <td>0</td>\n",
       "      <td>0</td>\n",
       "      <td>0</td>\n",
       "    </tr>\n",
       "    <tr>\n",
       "      <th>1</th>\n",
       "      <td>2001-01-02</td>\n",
       "      <td>2001</td>\n",
       "      <td>1</td>\n",
       "      <td>2</td>\n",
       "      <td>0</td>\n",
       "      <td>0</td>\n",
       "      <td>0</td>\n",
       "      <td>1</td>\n",
       "    </tr>\n",
       "    <tr>\n",
       "      <th>2</th>\n",
       "      <td>2001-01-03</td>\n",
       "      <td>2001</td>\n",
       "      <td>1</td>\n",
       "      <td>3</td>\n",
       "      <td>0</td>\n",
       "      <td>0</td>\n",
       "      <td>0</td>\n",
       "      <td>2</td>\n",
       "    </tr>\n",
       "    <tr>\n",
       "      <th>3</th>\n",
       "      <td>2001-01-04</td>\n",
       "      <td>2001</td>\n",
       "      <td>1</td>\n",
       "      <td>4</td>\n",
       "      <td>0</td>\n",
       "      <td>0</td>\n",
       "      <td>0</td>\n",
       "      <td>3</td>\n",
       "    </tr>\n",
       "    <tr>\n",
       "      <th>4</th>\n",
       "      <td>2001-01-05</td>\n",
       "      <td>2001</td>\n",
       "      <td>1</td>\n",
       "      <td>5</td>\n",
       "      <td>0</td>\n",
       "      <td>0</td>\n",
       "      <td>0</td>\n",
       "      <td>4</td>\n",
       "    </tr>\n",
       "    <tr>\n",
       "      <th>...</th>\n",
       "      <td>...</td>\n",
       "      <td>...</td>\n",
       "      <td>...</td>\n",
       "      <td>...</td>\n",
       "      <td>...</td>\n",
       "      <td>...</td>\n",
       "      <td>...</td>\n",
       "      <td>...</td>\n",
       "    </tr>\n",
       "    <tr>\n",
       "      <th>145</th>\n",
       "      <td>2001-05-26</td>\n",
       "      <td>2001</td>\n",
       "      <td>5</td>\n",
       "      <td>26</td>\n",
       "      <td>0</td>\n",
       "      <td>0</td>\n",
       "      <td>0</td>\n",
       "      <td>5</td>\n",
       "    </tr>\n",
       "    <tr>\n",
       "      <th>146</th>\n",
       "      <td>2001-05-27</td>\n",
       "      <td>2001</td>\n",
       "      <td>5</td>\n",
       "      <td>27</td>\n",
       "      <td>0</td>\n",
       "      <td>0</td>\n",
       "      <td>0</td>\n",
       "      <td>6</td>\n",
       "    </tr>\n",
       "    <tr>\n",
       "      <th>147</th>\n",
       "      <td>2001-05-28</td>\n",
       "      <td>2001</td>\n",
       "      <td>5</td>\n",
       "      <td>28</td>\n",
       "      <td>0</td>\n",
       "      <td>0</td>\n",
       "      <td>0</td>\n",
       "      <td>0</td>\n",
       "    </tr>\n",
       "    <tr>\n",
       "      <th>148</th>\n",
       "      <td>2001-05-29</td>\n",
       "      <td>2001</td>\n",
       "      <td>5</td>\n",
       "      <td>29</td>\n",
       "      <td>0</td>\n",
       "      <td>0</td>\n",
       "      <td>0</td>\n",
       "      <td>1</td>\n",
       "    </tr>\n",
       "    <tr>\n",
       "      <th>149</th>\n",
       "      <td>2001-05-30</td>\n",
       "      <td>2001</td>\n",
       "      <td>5</td>\n",
       "      <td>30</td>\n",
       "      <td>0</td>\n",
       "      <td>0</td>\n",
       "      <td>0</td>\n",
       "      <td>2</td>\n",
       "    </tr>\n",
       "  </tbody>\n",
       "</table>\n",
       "<p>150 rows × 8 columns</p>\n",
       "</div>"
      ],
      "text/plain": [
       "          date  year  month  day  hour  minute  second  weekday\n",
       "0   2001-01-01  2001      1    1     0       0       0        0\n",
       "1   2001-01-02  2001      1    2     0       0       0        1\n",
       "2   2001-01-03  2001      1    3     0       0       0        2\n",
       "3   2001-01-04  2001      1    4     0       0       0        3\n",
       "4   2001-01-05  2001      1    5     0       0       0        4\n",
       "..         ...   ...    ...  ...   ...     ...     ...      ...\n",
       "145 2001-05-26  2001      5   26     0       0       0        5\n",
       "146 2001-05-27  2001      5   27     0       0       0        6\n",
       "147 2001-05-28  2001      5   28     0       0       0        0\n",
       "148 2001-05-29  2001      5   29     0       0       0        1\n",
       "149 2001-05-30  2001      5   30     0       0       0        2\n",
       "\n",
       "[150 rows x 8 columns]"
      ]
     },
     "execution_count": 39,
     "metadata": {},
     "output_type": "execute_result"
    }
   ],
   "source": [
    "\n",
    "df = pd.DataFrame()\n",
    "df[\"date\"] = pd.date_range(\"1/1/2001\", periods=150, freq=\"D\")\n",
    "\n",
    "# 年、月、日、時、分、秒、曜日を特徴量として作成\n",
    "df[\"year\"] = df[\"date\"].dt.year\n",
    "df[\"month\"] = df[\"date\"].dt.month\n",
    "df[\"day\"] = df[\"date\"].dt.day\n",
    "df[\"hour\"] = df[\"date\"].dt.hour\n",
    "df[\"minute\"] = df[\"date\"].dt.minute\n",
    "df[\"second\"] = df[\"date\"].dt.second\n",
    "df[\"weekday\"] = df[\"date\"].dt.weekday\n",
    "\n",
    "df"
   ]
  },
  {
   "attachments": {},
   "cell_type": "markdown",
   "metadata": {},
   "source": [
    "## 日付の差の算出"
   ]
  },
  {
   "cell_type": "code",
   "execution_count": 47,
   "metadata": {},
   "outputs": [
    {
     "name": "stdout",
     "output_type": "stream",
     "text": [
      "0 days 01:00:00\n",
      "1 days 00:00:00\n"
     ]
    }
   ],
   "source": [
    "# データフレームを作成\n",
    "df = pd.DataFrame()\n",
    "\n",
    "# 日時データを作成\n",
    "df[\"date\"] = pd.date_range(\"1/1/2001\", periods=100, freq=\"H\")\n",
    "\n",
    "# 2つの日時の間のデータを抽出\n",
    "print(df[\"date\"][1] - df[\"date\"][0])\n",
    "print(df[\"date\"][24] - df[\"date\"][0])\n"
   ]
  },
  {
   "attachments": {},
   "cell_type": "markdown",
   "metadata": {},
   "source": [
    "## 時間遅れ特徴量の生成"
   ]
  },
  {
   "cell_type": "code",
   "execution_count": 50,
   "metadata": {},
   "outputs": [
    {
     "data": {
      "text/html": [
       "<div>\n",
       "<style scoped>\n",
       "    .dataframe tbody tr th:only-of-type {\n",
       "        vertical-align: middle;\n",
       "    }\n",
       "\n",
       "    .dataframe tbody tr th {\n",
       "        vertical-align: top;\n",
       "    }\n",
       "\n",
       "    .dataframe thead th {\n",
       "        text-align: right;\n",
       "    }\n",
       "</style>\n",
       "<table border=\"1\" class=\"dataframe\">\n",
       "  <thead>\n",
       "    <tr style=\"text-align: right;\">\n",
       "      <th></th>\n",
       "      <th>date</th>\n",
       "      <th>price</th>\n",
       "      <th>previous_days_price</th>\n",
       "    </tr>\n",
       "  </thead>\n",
       "  <tbody>\n",
       "    <tr>\n",
       "      <th>0</th>\n",
       "      <td>2001-01-01</td>\n",
       "      <td>61</td>\n",
       "      <td>NaN</td>\n",
       "    </tr>\n",
       "    <tr>\n",
       "      <th>1</th>\n",
       "      <td>2001-01-02</td>\n",
       "      <td>19</td>\n",
       "      <td>61.0</td>\n",
       "    </tr>\n",
       "    <tr>\n",
       "      <th>2</th>\n",
       "      <td>2001-01-03</td>\n",
       "      <td>43</td>\n",
       "      <td>19.0</td>\n",
       "    </tr>\n",
       "    <tr>\n",
       "      <th>3</th>\n",
       "      <td>2001-01-04</td>\n",
       "      <td>86</td>\n",
       "      <td>43.0</td>\n",
       "    </tr>\n",
       "    <tr>\n",
       "      <th>4</th>\n",
       "      <td>2001-01-05</td>\n",
       "      <td>16</td>\n",
       "      <td>86.0</td>\n",
       "    </tr>\n",
       "    <tr>\n",
       "      <th>5</th>\n",
       "      <td>2001-01-06</td>\n",
       "      <td>54</td>\n",
       "      <td>16.0</td>\n",
       "    </tr>\n",
       "    <tr>\n",
       "      <th>6</th>\n",
       "      <td>2001-01-07</td>\n",
       "      <td>33</td>\n",
       "      <td>54.0</td>\n",
       "    </tr>\n",
       "    <tr>\n",
       "      <th>7</th>\n",
       "      <td>2001-01-08</td>\n",
       "      <td>30</td>\n",
       "      <td>33.0</td>\n",
       "    </tr>\n",
       "    <tr>\n",
       "      <th>8</th>\n",
       "      <td>2001-01-09</td>\n",
       "      <td>12</td>\n",
       "      <td>30.0</td>\n",
       "    </tr>\n",
       "    <tr>\n",
       "      <th>9</th>\n",
       "      <td>2001-01-10</td>\n",
       "      <td>58</td>\n",
       "      <td>12.0</td>\n",
       "    </tr>\n",
       "  </tbody>\n",
       "</table>\n",
       "</div>"
      ],
      "text/plain": [
       "        date  price  previous_days_price\n",
       "0 2001-01-01     61                  NaN\n",
       "1 2001-01-02     19                 61.0\n",
       "2 2001-01-03     43                 19.0\n",
       "3 2001-01-04     86                 43.0\n",
       "4 2001-01-05     16                 86.0\n",
       "5 2001-01-06     54                 16.0\n",
       "6 2001-01-07     33                 54.0\n",
       "7 2001-01-08     30                 33.0\n",
       "8 2001-01-09     12                 30.0\n",
       "9 2001-01-10     58                 12.0"
      ]
     },
     "execution_count": 50,
     "metadata": {},
     "output_type": "execute_result"
    }
   ],
   "source": [
    "# データフレームを作成\n",
    "df = pd.DataFrame()\n",
    "\n",
    "# 日時データを作成\n",
    "df[\"date\"] = pd.date_range(\"1/1/2001\", periods=10, freq=\"D\")\n",
    "df[\"price\"] = np.random.randint(10, 100, size=[10, 1])\n",
    "\n",
    "# 1日分のラグがある特徴量を作成\n",
    "df[\"previous_days_price\"] = df[\"price\"].shift(1)\n",
    "\n",
    "df"
   ]
  },
  {
   "attachments": {},
   "cell_type": "markdown",
   "metadata": {},
   "source": [
    "## 時系列データの欠損値の補完"
   ]
  },
  {
   "cell_type": "code",
   "execution_count": 68,
   "metadata": {},
   "outputs": [
    {
     "name": "stdout",
     "output_type": "stream",
     "text": [
      "        date  price\n",
      "0 2001-01-01   72.0\n",
      "1 2001-01-02   51.0\n",
      "2 2001-01-03    NaN\n",
      "3 2001-01-04   72.0\n",
      "4 2001-01-05   88.0\n",
      "        date  price\n",
      "0 2001-01-01   72.0\n",
      "1 2001-01-02   51.0\n",
      "2 2001-01-03   51.0\n",
      "3 2001-01-04   72.0\n",
      "4 2001-01-05   88.0\n",
      "        date  price\n",
      "0 2001-01-01   72.0\n",
      "1 2001-01-02   51.0\n",
      "2 2001-01-03   72.0\n",
      "3 2001-01-04   72.0\n",
      "4 2001-01-05   88.0\n"
     ]
    },
    {
     "data": {
      "text/html": [
       "<div>\n",
       "<style scoped>\n",
       "    .dataframe tbody tr th:only-of-type {\n",
       "        vertical-align: middle;\n",
       "    }\n",
       "\n",
       "    .dataframe tbody tr th {\n",
       "        vertical-align: top;\n",
       "    }\n",
       "\n",
       "    .dataframe thead th {\n",
       "        text-align: right;\n",
       "    }\n",
       "</style>\n",
       "<table border=\"1\" class=\"dataframe\">\n",
       "  <thead>\n",
       "    <tr style=\"text-align: right;\">\n",
       "      <th></th>\n",
       "      <th>date</th>\n",
       "      <th>price</th>\n",
       "    </tr>\n",
       "  </thead>\n",
       "  <tbody>\n",
       "    <tr>\n",
       "      <th>0</th>\n",
       "      <td>2001-01-01</td>\n",
       "      <td>72.0</td>\n",
       "    </tr>\n",
       "    <tr>\n",
       "      <th>1</th>\n",
       "      <td>2001-01-02</td>\n",
       "      <td>51.0</td>\n",
       "    </tr>\n",
       "    <tr>\n",
       "      <th>2</th>\n",
       "      <td>2001-01-03</td>\n",
       "      <td>NaN</td>\n",
       "    </tr>\n",
       "    <tr>\n",
       "      <th>3</th>\n",
       "      <td>2001-01-04</td>\n",
       "      <td>72.0</td>\n",
       "    </tr>\n",
       "    <tr>\n",
       "      <th>4</th>\n",
       "      <td>2001-01-05</td>\n",
       "      <td>88.0</td>\n",
       "    </tr>\n",
       "  </tbody>\n",
       "</table>\n",
       "</div>"
      ],
      "text/plain": [
       "        date  price\n",
       "0 2001-01-01   72.0\n",
       "1 2001-01-02   51.0\n",
       "2 2001-01-03    NaN\n",
       "3 2001-01-04   72.0\n",
       "4 2001-01-05   88.0"
      ]
     },
     "execution_count": 68,
     "metadata": {},
     "output_type": "execute_result"
    }
   ],
   "source": [
    "df = pd.DataFrame()\n",
    "df[\"date\"] = pd.date_range(\"1/1/2001\", periods=5, freq=\"D\")\n",
    "df[\"price\"] = np.random.randint(1, 100, size=[5, 1])\n",
    "\n",
    "# 欠損値を作成\n",
    "df.iloc[2, 1] = np.nan\n",
    "print(df)\n",
    "\n",
    "# 欠損値を前方補完\n",
    "df_ffill = df.ffill()\n",
    "print(df_ffill)\n",
    "\n",
    "# 欠損値を後方補完\n",
    "df_bfill = df.bfill()\n",
    "print(df_bfill)\n",
    "\n",
    "df"
   ]
  },
  {
   "cell_type": "code",
   "execution_count": null,
   "metadata": {},
   "outputs": [],
   "source": []
  }
 ],
 "metadata": {
  "kernelspec": {
   "display_name": "Python 3",
   "language": "python",
   "name": "python3"
  },
  "language_info": {
   "codemirror_mode": {
    "name": "ipython",
    "version": 3
   },
   "file_extension": ".py",
   "mimetype": "text/x-python",
   "name": "python",
   "nbconvert_exporter": "python",
   "pygments_lexer": "ipython3",
   "version": "3.8.10"
  },
  "orig_nbformat": 4
 },
 "nbformat": 4,
 "nbformat_minor": 2
}

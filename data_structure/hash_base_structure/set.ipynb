{
 "cells": [
  {
   "cell_type": "markdown",
   "metadata": {},
   "source": [
    "# Setの実装"
   ]
  },
  {
   "cell_type": "code",
   "execution_count": 9,
   "metadata": {},
   "outputs": [
    {
     "name": "stdout",
     "output_type": "stream",
     "text": [
      "A: {1: True, 2: True, 3: True}\n",
      "B: {3: True, 4: True, 5: True}\n",
      "A union B: dict_keys([1, 2, 3, 4, 5])\n",
      "A intersection B: dict_keys([3])\n",
      "A difference B: dict_keys([1, 2])\n"
     ]
    }
   ],
   "source": [
    "class Myset:\n",
    "    def __init__(self):\n",
    "        self.data = {}\n",
    "\n",
    "    def add(self, value):\n",
    "        self.data[value] = True\n",
    "\n",
    "    def remove(self, value):\n",
    "        if value in self.data:\n",
    "            del self.data[value]\n",
    "        else:\n",
    "            raise KeyError(\"Value not found\")\n",
    "\n",
    "    def union(self, other_set):\n",
    "        # 和集合の実装\n",
    "        result = Myset()\n",
    "        for value in self.data:\n",
    "            result.add(value)\n",
    "        for value in other_set.data:\n",
    "            result.add(value)\n",
    "        return result\n",
    "\n",
    "    def intersection(self, other_set):\n",
    "        # 積集合の実装\n",
    "        result = Myset()\n",
    "        for value in self.data:\n",
    "            if value in other_set.data:\n",
    "                result.add(value)\n",
    "        return result\n",
    "\n",
    "    def difference(self, other_set):\n",
    "        # 差集合の実装\n",
    "        result = Myset()\n",
    "        for value in self.data:\n",
    "            if value not in other_set.data:\n",
    "                result.add(value)\n",
    "        return result\n",
    "\n",
    "# 使用例\n",
    "set_A = Myset()\n",
    "set_A.add(1)\n",
    "set_A.add(2)\n",
    "set_A.add(3)\n",
    "\n",
    "set_B = Myset()\n",
    "set_B.add(3)\n",
    "set_B.add(4)\n",
    "set_B.add(5)\n",
    "\n",
    "print(\"A:\", set_A.data)\n",
    "print(\"B:\", set_B.data)\n",
    "\n",
    "print(\"A union B:\", set_A.union(set_B).data.keys())\n",
    "print(\"A intersection B:\", set_A.intersection(set_B).data.keys())\n",
    "print(\"A difference B:\", set_A.difference(set_B).data.keys())\n",
    "\n"
   ]
  },
  {
   "cell_type": "code",
   "execution_count": 10,
   "metadata": {},
   "outputs": [
    {
     "name": "stdout",
     "output_type": "stream",
     "text": [
      "A: {1, 2, 3}\n",
      "B: {3, 4, 5}\n",
      "A union B: {1, 2, 3, 4, 5}\n",
      "A intersection B: {3}\n",
      "A difference B: {1, 2}\n"
     ]
    }
   ],
   "source": [
    "set_A = set([1, 2, 3])\n",
    "set_B = set([3, 4, 5])\n",
    "\n",
    "print(\"A:\", set_A)\n",
    "print(\"B:\", set_B)\n",
    "\n",
    "print(\"A union B:\", set_A.union(set_B))\n",
    "print(\"A intersection B:\", set_A.intersection(set_B))\n",
    "print(\"A difference B:\", set_A.difference(set_B))"
   ]
  },
  {
   "cell_type": "code",
   "execution_count": null,
   "metadata": {},
   "outputs": [],
   "source": []
  }
 ],
 "metadata": {
  "kernelspec": {
   "display_name": "Python 3",
   "language": "python",
   "name": "python3"
  },
  "language_info": {
   "codemirror_mode": {
    "name": "ipython",
    "version": 3
   },
   "file_extension": ".py",
   "mimetype": "text/x-python",
   "name": "python",
   "nbconvert_exporter": "python",
   "pygments_lexer": "ipython3",
   "version": "3.12.2"
  }
 },
 "nbformat": 4,
 "nbformat_minor": 2
}

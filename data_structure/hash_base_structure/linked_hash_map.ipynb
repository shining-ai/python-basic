{
 "cells": [
  {
   "cell_type": "markdown",
   "metadata": {},
   "source": [
    "# 連結HashMap"
   ]
  },
  {
   "cell_type": "code",
   "execution_count": 36,
   "metadata": {},
   "outputs": [
    {
     "name": "stdout",
     "output_type": "stream",
     "text": [
      "赤\n",
      "挿入順序: OrderedDict({'Banana': '黄', 'Apple': '赤', 'Orange': '橙'})\n"
     ]
    }
   ],
   "source": [
    "from collections import OrderedDict\n",
    "\n",
    "# OrderedDictを使用して挿入順序を保持\n",
    "linked_hash_map = OrderedDict()\n",
    "\n",
    "# 要素の挿入\n",
    "linked_hash_map[\"Banana\"] = \"黄\"\n",
    "linked_hash_map[\"Apple\"] = \"赤\"\n",
    "linked_hash_map[\"Orange\"] = \"橙\"\n",
    "\n",
    "# 要素にアクセス\n",
    "print(linked_hash_map[\"Apple\"])  # 1\n",
    "\n",
    "# 挿入順で出力\n",
    "print(\"挿入順序:\", linked_hash_map)"
   ]
  },
  {
   "cell_type": "code",
   "execution_count": 42,
   "metadata": {},
   "outputs": [
    {
     "name": "stdout",
     "output_type": "stream",
     "text": [
      "OrderedDict({'banana': '黄', 'apple': '赤'})\n",
      "黄\n",
      "OrderedDict({'apple': '赤', 'banana': '黄'})\n",
      "OrderedDict({'apple': '赤', 'banana': '黄', 'orange': '橙'})\n",
      "OrderedDict({'banana': '黄', 'orange': '橙', 'cherry': '赤'})\n"
     ]
    }
   ],
   "source": [
    "from collections import OrderedDict\n",
    "\n",
    "\n",
    "class LRUCache:\n",
    "    def __init__(self, capacity: int):\n",
    "        self.cache = OrderedDict()\n",
    "        self.capacity = capacity\n",
    "\n",
    "    def get(self, key: int) -> int:\n",
    "        if key not in self.cache:\n",
    "            return -1\n",
    "        # 使用されたキーを末尾に移動（最近使用されたものとしてマーク）\n",
    "        self.cache.move_to_end(key)\n",
    "        return self.cache[key]\n",
    "\n",
    "    def put(self, key: int, value: int) -> None:\n",
    "        if key in self.cache:\n",
    "            # 既存のキーを更新して末尾に移動\n",
    "            self.cache.move_to_end(key)\n",
    "        self.cache[key] = value\n",
    "        # キャッシュの容量を超えた場合、最も古い項目（先頭）を削除\n",
    "        if len(self.cache) > self.capacity:\n",
    "            self.cache.popitem(last=False)\n",
    "\n",
    "\n",
    "# 使用例\n",
    "cache = LRUCache(3)\n",
    "\n",
    "# 要素の追加\n",
    "cache.put(\"banana\", \"黄\")\n",
    "cache.put(\"apple\", \"赤\")\n",
    "print(cache.cache)\n",
    "\n",
    "# 要素へのアクセス\n",
    "print(cache.get(\"banana\"))\n",
    "print(cache.cache)\n",
    "\n",
    "# 新しい要素の追加\n",
    "cache.put(\"orange\", \"橙\")\n",
    "print(cache.cache)\n",
    "\n",
    "# キャッシュの容量を超える要素の追加\n",
    "cache.put(\"cherry\", \"赤\")\n",
    "print(cache.cache)"
   ]
  },
  {
   "cell_type": "code",
   "execution_count": null,
   "metadata": {},
   "outputs": [],
   "source": []
  }
 ],
 "metadata": {
  "kernelspec": {
   "display_name": "Python 3",
   "language": "python",
   "name": "python3"
  },
  "language_info": {
   "codemirror_mode": {
    "name": "ipython",
    "version": 3
   },
   "file_extension": ".py",
   "mimetype": "text/x-python",
   "name": "python",
   "nbconvert_exporter": "python",
   "pygments_lexer": "ipython3",
   "version": "3.12.2"
  }
 },
 "nbformat": 4,
 "nbformat_minor": 2
}

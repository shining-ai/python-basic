{
 "cells": [
  {
   "cell_type": "markdown",
   "metadata": {},
   "source": [
    "# ハッシュテーブル"
   ]
  },
  {
   "cell_type": "code",
   "execution_count": 7,
   "metadata": {},
   "outputs": [
    {
     "name": "stdout",
     "output_type": "stream",
     "text": [
      "赤\n",
      "黄\n",
      "橙\n",
      "[[('apple', '赤')], [], [], [], [], [], [('orange', '橙')], [], [], [('banana', '黄')]]\n"
     ]
    }
   ],
   "source": [
    "class HashTable:\n",
    "    def __init__(self, size=10):\n",
    "        self.size = size\n",
    "        self.table = [[] for _ in range(size)]\n",
    "\n",
    "    def hash_function(self, key):\n",
    "        # キーの文字コードの合計をサイズで割った余りをハッシュ関数として使用\n",
    "        return sum(ord(char) for char in key) % self.size\n",
    "\n",
    "    def insert(self, key, value):\n",
    "        # ハッシュ値を計算し、対応するバケットにキーと値のペアを追加\n",
    "        hash_index = self.hash_function(key)\n",
    "        bucket = self.table[hash_index]\n",
    "        # 同じキーが既に存在する場合は値を更新\n",
    "        for i, kv in enumerate(bucket):\n",
    "            k, v = kv\n",
    "            if k == key:\n",
    "                bucket[i] = (key, value)\n",
    "                return\n",
    "        bucket.append((key, value))\n",
    "\n",
    "    def get(self, key):\n",
    "        # ハッシュ値を計算し、対応するバケットから値を検索\n",
    "        hash_index = self.hash_function(key)\n",
    "        bucket = self.table[hash_index]\n",
    "        for k, v in bucket:\n",
    "            if k == key:\n",
    "                return v\n",
    "        return None\n",
    "\n",
    "\n",
    "# ハッシュテーブルの使用例\n",
    "ht = HashTable()\n",
    "\n",
    "# 値の挿入\n",
    "ht.insert(\"apple\", \"赤\")\n",
    "ht.insert(\"banana\", \"黄\")\n",
    "ht.insert(\"orange\", \"橙\")\n",
    "\n",
    "# 値の取得\n",
    "print(ht.get(\"apple\"))  # 出力: \"赤\"\n",
    "print(ht.get(\"banana\"))  # 出力: \"黄\"\n",
    "print(ht.get(\"orange\"))  # 出力: \"橙\"\n",
    "\n",
    "# ハッシュテーブルの内容を表示\n",
    "print(ht.table)  # 出力: ハッシュテーブルの内部構造を表示"
   ]
  },
  {
   "cell_type": "code",
   "execution_count": 8,
   "metadata": {},
   "outputs": [
    {
     "name": "stdout",
     "output_type": "stream",
     "text": [
      "赤\n",
      "黄\n",
      "橙\n",
      "{'apple': '赤', 'banana': '黄', 'orange': '橙'}\n"
     ]
    }
   ],
   "source": [
    "table = dict()\n",
    "\n",
    "# 値の挿入\n",
    "table[\"apple\"] = \"赤\"\n",
    "table[\"banana\"] = \"黄\"\n",
    "table[\"orange\"] = \"橙\"\n",
    "\n",
    "# 値の取得\n",
    "print(table[\"apple\"])  # 出力: \"赤\"\n",
    "print(table[\"banana\"])  # 出力: \"黄\"\n",
    "print(table[\"orange\"])  # 出力: \"橙\"\n",
    "\n",
    "# dictの内容を表示\n",
    "print(table)"
   ]
  }
 ],
 "metadata": {
  "kernelspec": {
   "display_name": "Python 3",
   "language": "python",
   "name": "python3"
  },
  "language_info": {
   "codemirror_mode": {
    "name": "ipython",
    "version": 3
   },
   "file_extension": ".py",
   "mimetype": "text/x-python",
   "name": "python",
   "nbconvert_exporter": "python",
   "pygments_lexer": "ipython3",
   "version": "3.12.2"
  }
 },
 "nbformat": 4,
 "nbformat_minor": 2
}

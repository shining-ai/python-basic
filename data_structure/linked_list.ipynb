{
 "cells": [
  {
   "cell_type": "code",
   "execution_count": 12,
   "metadata": {},
   "outputs": [],
   "source": [
    "# 単方向連結リスト\n",
    "class LinkedList:\n",
    "    def __init__(self, value=None, next=None):\n",
    "        self.value = value\n",
    "        self.next = next"
   ]
  },
  {
   "cell_type": "code",
   "execution_count": 13,
   "metadata": {},
   "outputs": [],
   "source": [
    "root = LinkedList(10)\n",
    "root.next = LinkedList(20)\n",
    "root.next.next = LinkedList(50)"
   ]
  },
  {
   "cell_type": "code",
   "execution_count": 14,
   "metadata": {},
   "outputs": [
    {
     "name": "stdout",
     "output_type": "stream",
     "text": [
      "10\n",
      "20\n",
      "50\n"
     ]
    }
   ],
   "source": [
    "current = root\n",
    "while current:\n",
    "    print(current.value)\n",
    "    current = current.next"
   ]
  },
  {
   "cell_type": "code",
   "execution_count": 15,
   "metadata": {},
   "outputs": [],
   "source": [
    "# 要素の追加\n",
    "new_node = LinkedList(30)\n",
    "new_node.next = root.next\n",
    "root.next = new_node"
   ]
  },
  {
   "cell_type": "code",
   "execution_count": 16,
   "metadata": {},
   "outputs": [
    {
     "name": "stdout",
     "output_type": "stream",
     "text": [
      "10\n",
      "30\n",
      "20\n",
      "50\n"
     ]
    }
   ],
   "source": [
    "current = root\n",
    "while current:\n",
    "    print(current.value)\n",
    "    current = current.next"
   ]
  },
  {
   "cell_type": "code",
   "execution_count": 17,
   "metadata": {},
   "outputs": [],
   "source": [
    "# 要素の削除\n",
    "root.next = root.next.next"
   ]
  },
  {
   "cell_type": "code",
   "execution_count": 18,
   "metadata": {},
   "outputs": [
    {
     "name": "stdout",
     "output_type": "stream",
     "text": [
      "10\n",
      "20\n",
      "50\n"
     ]
    }
   ],
   "source": [
    "current = root\n",
    "while current:\n",
    "    print(current.value)\n",
    "    current = current.next"
   ]
  }
 ],
 "metadata": {
  "kernelspec": {
   "display_name": "Python 3",
   "language": "python",
   "name": "python3"
  },
  "language_info": {
   "codemirror_mode": {
    "name": "ipython",
    "version": 3
   },
   "file_extension": ".py",
   "mimetype": "text/x-python",
   "name": "python",
   "nbconvert_exporter": "python",
   "pygments_lexer": "ipython3",
   "version": "3.12.2"
  }
 },
 "nbformat": 4,
 "nbformat_minor": 2
}

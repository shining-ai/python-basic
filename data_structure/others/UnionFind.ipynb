{
 "cells": [
  {
   "cell_type": "markdown",
   "metadata": {},
   "source": [
    "# UnionFind"
   ]
  },
  {
   "cell_type": "code",
   "execution_count": null,
   "metadata": {},
   "outputs": [],
   "source": [
    "class UnionFind:\n",
    "    def __init__(self, n):\n",
    "        self.parent = [-1] * n\n",
    "        self.rank = [0] * n\n",
    "\n",
    "    def is_root(self, node):\n",
    "        return self.parent[node] == -1\n",
    "\n",
    "    def find(self, node):\n",
    "        if self.is_root(node):\n",
    "            return node\n",
    "        self.parent[node] = self.find(self.parent[node])  # 経路圧縮\n",
    "        return self.parent[node]\n",
    "\n",
    "    def union(self, node1, node2):\n",
    "        root1 = self.find(node1)\n",
    "        root2 = self.find(node2)\n",
    "        if root1 == root2:\n",
    "            return\n",
    "        if self.rank[root1] < self.rank[root2]:\n",
    "            smaller, bigger = root1, root2\n",
    "        else:\n",
    "            smaller, bigger = root2, root1\n",
    "        self.parent[smaller] = bigger\n",
    "        self.rank[bigger] = max(self.rank[bigger], self.rank[smaller] + 1)"
   ]
  }
 ],
 "metadata": {
  "kernelspec": {
   "display_name": "Python 3",
   "language": "python",
   "name": "python3"
  },
  "language_info": {
   "codemirror_mode": {
    "name": "ipython",
    "version": 3
   },
   "file_extension": ".py",
   "mimetype": "text/x-python",
   "name": "python",
   "nbconvert_exporter": "python",
   "pygments_lexer": "ipython3",
   "version": "3.12.2"
  }
 },
 "nbformat": 4,
 "nbformat_minor": 2
}

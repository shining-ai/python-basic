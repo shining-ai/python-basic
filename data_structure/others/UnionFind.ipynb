{
 "cells": [
  {
   "cell_type": "markdown",
   "metadata": {},
   "source": [
    "# UnionFind"
   ]
  },
  {
   "cell_type": "code",
   "execution_count": null,
   "metadata": {},
   "outputs": [],
   "source": [
    "from collections import defaultdict\n",
    "\n",
    "\n",
    "class UnionFind:\n",
    "    def __init__(self, n):\n",
    "        self.parent = defaultdict(lambda: -1)\n",
    "        self.rank = defaultdict(int)\n",
    "\n",
    "    def is_root(self, node):\n",
    "        return self.parent[node] == -1\n",
    "\n",
    "    def find(self, node):\n",
    "        while not self.is_root(node):\n",
    "            node = self.parent[node]\n",
    "        return node\n",
    "\n",
    "    def union(self, node1, node2):\n",
    "        root1 = self.find(node1)\n",
    "        root2 = self.find(node2)\n",
    "        if root1 == root2:\n",
    "            return\n",
    "        if self.rank[root1] < self.rank[root2]:\n",
    "            smaller, bigger = root2, root1\n",
    "        else:\n",
    "            smaller, bigger = root1, root2\n",
    "        self.parent[smaller] = bigger\n",
    "        self.rank[bigger] = max(self.rank[bigger], self.rank[smaller] + 1)"
   ]
  }
 ],
 "metadata": {
  "language_info": {
   "name": "python"
  }
 },
 "nbformat": 4,
 "nbformat_minor": 2
}

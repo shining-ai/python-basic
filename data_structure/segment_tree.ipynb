{
 "cells": [
  {
   "cell_type": "markdown",
   "metadata": {},
   "source": [
    "# セグメントツリー"
   ]
  },
  {
   "cell_type": "code",
   "execution_count": 80,
   "metadata": {},
   "outputs": [],
   "source": [
    "# rootのindexは1\n",
    "class SegmentTree:\n",
    "    def __init__(self, nums):\n",
    "        self.size = 1\n",
    "        while self.size < len(nums):\n",
    "            self.size *= 2\n",
    "        self.tree = [(float(\"inf\"))] * (self.size * 2)\n",
    "        # 葉ノードに値をセット\n",
    "        for i, num in enumerate(nums):\n",
    "            self.tree[self.size + i] = num\n",
    "        # 葉ノード以外に最小値をセット\n",
    "        for i in range(self.size - 1, 0, -1):\n",
    "            self.tree[i] = min(self.tree[i * 2], self.tree[i * 2 + 1])\n",
    "\n",
    "    # 最上段から下がっていき、[begin, end)の最小値を取得\n",
    "    # [node_begin, node_end)が現在のノードの区間\n",
    "    def query(self, begin, end, node=1, node_begin=0, node_end=None):\n",
    "        if node_end is None:\n",
    "            node_end = self.size\n",
    "        if node_end <= begin or end <= node_begin:  # 対象区間が被らない\n",
    "            return float(\"inf\")\n",
    "        if begin <= node_begin and node_end <= end:  # 対象区間が完全に被る\n",
    "            return self.tree[node]\n",
    "        # 一部だけ被る  -> 子ノードに問い合わせ\n",
    "        node_middle = (node_begin + node_end) // 2\n",
    "        left_min = self.query(begin, end, node * 2, node_begin, node_middle)\n",
    "        right_min = self.query(begin, end, node * 2 + 1, node_middle, node_end)\n",
    "        return min(left_min, right_min)\n",
    "\n",
    "    # 最下段の要素から親を辿っていき、値を更新\n",
    "    def update(self, index, val):\n",
    "        index += self.size\n",
    "        self.tree[index] = val\n",
    "        while index > 1:\n",
    "            index //= 2\n",
    "            self.tree[index] = min(self.tree[index * 2], self.tree[index * 2 + 1])"
   ]
  },
  {
   "cell_type": "code",
   "execution_count": 86,
   "metadata": {},
   "outputs": [
    {
     "name": "stdout",
     "output_type": "stream",
     "text": [
      "[inf, 10, 20, 10, 50, 20, 30, 10, 80, 50, 20, 60, 40, 30, 10, 70]\n",
      "10 \n",
      "20 10 \n",
      "50 20 30 10 \n",
      "80 50 20 60 40 30 10 70 \n"
     ]
    }
   ],
   "source": [
    "nums = [80, 50, 20, 60, 40, 30, 10, 70]\n",
    "segment_tree = SegmentTree(nums)\n",
    "print(segment_tree.tree)\n",
    "for i in range(4):\n",
    "    for i in range(2**(i), 2 ** (i+1)):\n",
    "        print(segment_tree.tree[i], end=\" \")\n",
    "    print()"
   ]
  },
  {
   "cell_type": "code",
   "execution_count": 87,
   "metadata": {},
   "outputs": [
    {
     "name": "stdout",
     "output_type": "stream",
     "text": [
      "20\n"
     ]
    }
   ],
   "source": [
    "print(segment_tree.query(1, 5))  # 50, 20, 60, 40, 30"
   ]
  },
  {
   "cell_type": "code",
   "execution_count": 88,
   "metadata": {},
   "outputs": [
    {
     "name": "stdout",
     "output_type": "stream",
     "text": [
      "5 \n",
      "5 10 \n",
      "50 5 30 10 \n",
      "80 50 5 60 40 30 10 70 \n"
     ]
    }
   ],
   "source": [
    "segment_tree.update(2, 5)\n",
    "for i in range(4):\n",
    "    for i in range(2**(i), 2 ** (i+1)):\n",
    "        print(segment_tree.tree[i], end=\" \")\n",
    "    print()"
   ]
  },
  {
   "cell_type": "code",
   "execution_count": null,
   "metadata": {},
   "outputs": [],
   "source": []
  }
 ],
 "metadata": {
  "kernelspec": {
   "display_name": "Python 3",
   "language": "python",
   "name": "python3"
  },
  "language_info": {
   "codemirror_mode": {
    "name": "ipython",
    "version": 3
   },
   "file_extension": ".py",
   "mimetype": "text/x-python",
   "name": "python",
   "nbconvert_exporter": "python",
   "pygments_lexer": "ipython3",
   "version": "3.12.2"
  }
 },
 "nbformat": 4,
 "nbformat_minor": 2
}

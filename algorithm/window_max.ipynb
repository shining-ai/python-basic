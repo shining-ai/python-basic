{
 "cells": [
  {
   "cell_type": "markdown",
   "metadata": {},
   "source": [
    "# スライド最大(最小)値とは?\n",
    "https://nisshingeppo.com/programming/slide-window-max/"
   ]
  },
  {
   "cell_type": "code",
   "execution_count": 10,
   "metadata": {},
   "outputs": [],
   "source": [
    "from collections import deque\n",
    "\n",
    "\n",
    "def sliding_window_max(nums, k):\n",
    "    window = deque()\n",
    "    max_num_in_window = []\n",
    "    for i in range(len(nums)):\n",
    "        if window and window[0] < i - k + 1:\n",
    "            window.popleft()  # 卒業させる\n",
    "        while window and nums[window[-1]] < nums[i]:\n",
    "            window.pop()  # 新入生より小さいものは削除する\n",
    "        window.append(i)  # 新入生の追加\n",
    "        if i >= k - 1:\n",
    "            max_num_in_window.append(nums[window[0]])\n",
    "    return max_num_in_window\n"
   ]
  },
  {
   "cell_type": "code",
   "execution_count": 11,
   "metadata": {},
   "outputs": [
    {
     "name": "stdout",
     "output_type": "stream",
     "text": [
      "[9, 9, 7, 8, 8]\n"
     ]
    }
   ],
   "source": [
    "nums = [3, 9, 2, 1, 7, 5, 6, 8, 4]\n",
    "k = 5\n",
    "\n",
    "print(window_max(nums, k))"
   ]
  },
  {
   "cell_type": "code",
   "execution_count": null,
   "metadata": {},
   "outputs": [],
   "source": []
  }
 ],
 "metadata": {
  "kernelspec": {
   "display_name": "Python 3",
   "language": "python",
   "name": "python3"
  },
  "language_info": {
   "codemirror_mode": {
    "name": "ipython",
    "version": 3
   },
   "file_extension": ".py",
   "mimetype": "text/x-python",
   "name": "python",
   "nbconvert_exporter": "python",
   "pygments_lexer": "ipython3",
   "version": "3.12.2"
  }
 },
 "nbformat": 4,
 "nbformat_minor": 2
}

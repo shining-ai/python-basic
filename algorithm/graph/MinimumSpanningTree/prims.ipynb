{
 "cells": [
  {
   "cell_type": "markdown",
   "metadata": {},
   "source": [
    "# プリム法"
   ]
  },
  {
   "cell_type": "code",
   "execution_count": 10,
   "metadata": {},
   "outputs": [],
   "source": [
    "import heapq\n",
    "\n",
    "\n",
    "def prim(graph):\n",
    "    start_node = list(graph.keys())[0]  # 任意の頂点を開始点にする\n",
    "    mst = []  # 最小全域木の辺を格納するリスト\n",
    "    visited = set()\n",
    "    min_heap = [(0, start_node, None)]  # (重み, 現在の頂点, 親頂点)\n",
    "\n",
    "    while min_heap:\n",
    "        weight, node, parent = heapq.heappop(min_heap)\n",
    "        if node in visited:\n",
    "            continue\n",
    "        visited.add(node)\n",
    "        if parent:\n",
    "            mst.append((parent, node, weight))\n",
    "        for next_node, edge_weight in graph[node]:\n",
    "            if next_node in visited:\n",
    "                continue\n",
    "            heapq.heappush(min_heap, (edge_weight, next_node, node))\n",
    "\n",
    "    return mst"
   ]
  },
  {
   "cell_type": "code",
   "execution_count": 11,
   "metadata": {},
   "outputs": [
    {
     "name": "stdout",
     "output_type": "stream",
     "text": [
      "最小全域木: [('A', 'D', 5), ('A', 'E', 10), ('E', 'B', 3), ('E', 'F', 7), ('F', 'C', 7)]\n"
     ]
    }
   ],
   "source": [
    "# グラフの定義（隣接リスト表現）\n",
    "graph = {\n",
    "    'A': [('B', 20), ('D', 5), ('E', 10)],\n",
    "    'B': [('A', 20), ('C', 10), ('E', 3)],\n",
    "    'C': [('B', 10), ('E', 15), ('F', 7)],\n",
    "    'D': [('A', 5), ('E', 10)],\n",
    "    'E': [('A', 10), ('B', 3), ('C', 15), ('D', 10), ('F', 7)],\n",
    "    'F': [('C', 7), ('E', 7)],\n",
    "}\n",
    "\n",
    "# プリム法の実行\n",
    "mst = prim(graph)\n",
    "print(\"最小全域木:\", mst)"
   ]
  },
  {
   "cell_type": "code",
   "execution_count": null,
   "metadata": {},
   "outputs": [],
   "source": []
  }
 ],
 "metadata": {
  "kernelspec": {
   "display_name": "Python 3",
   "language": "python",
   "name": "python3"
  },
  "language_info": {
   "codemirror_mode": {
    "name": "ipython",
    "version": 3
   },
   "file_extension": ".py",
   "mimetype": "text/x-python",
   "name": "python",
   "nbconvert_exporter": "python",
   "pygments_lexer": "ipython3",
   "version": "3.12.8"
  }
 },
 "nbformat": 4,
 "nbformat_minor": 2
}

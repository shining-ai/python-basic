{
 "cells": [
  {
   "cell_type": "markdown",
   "metadata": {},
   "source": [
    "# クラスカル法"
   ]
  },
  {
   "cell_type": "code",
   "execution_count": 35,
   "metadata": {},
   "outputs": [],
   "source": [
    "\n",
    "from collections import defaultdict\n",
    "\n",
    "\n",
    "class UnionFind:\n",
    "    def __init__(self, n):\n",
    "        self.parent = defaultdict(lambda: -1)\n",
    "        self.rank = defaultdict(int)\n",
    "\n",
    "    def is_root(self, node):\n",
    "        return self.parent[node] == -1\n",
    "\n",
    "    def find(self, node):\n",
    "        while not self.is_root(node):\n",
    "            node = self.parent[node]  # 経路圧縮\n",
    "        return node\n",
    "\n",
    "    def union(self, node1, node2):\n",
    "        root1 = self.find(node1)\n",
    "        root2 = self.find(node2)\n",
    "        if root1 == root2:\n",
    "            return\n",
    "        if self.rank[root1] < self.rank[root2]:\n",
    "            smaller, bigger = root1, root2\n",
    "        else:\n",
    "            smaller, bigger = root2, root1\n",
    "        self.parent[smaller] = bigger\n",
    "        self.rank[bigger] = max(self.rank[bigger], self.rank[smaller] + 1)"
   ]
  },
  {
   "cell_type": "code",
   "execution_count": 36,
   "metadata": {},
   "outputs": [],
   "source": [
    "def kruskal(n, edges):\n",
    "    edges.sort(key=lambda x: x[2])  # 辺の重みでソート\n",
    "    uf = UnionFind(n)\n",
    "    mst = []\n",
    "\n",
    "    for u, v, weight in edges:\n",
    "        if uf.find(u) != uf.find(v):  # 違うグループのときに追加\n",
    "            uf.union(u, v)\n",
    "            mst.append((u, v, weight))\n",
    "\n",
    "    return mst"
   ]
  },
  {
   "cell_type": "code",
   "execution_count": 37,
   "metadata": {},
   "outputs": [
    {
     "name": "stdout",
     "output_type": "stream",
     "text": [
      "最小全域木: [('B', 'E', 3), ('A', 'D', 5), ('C', 'F', 7), ('E', 'F', 7), ('D', 'E', 10)]\n"
     ]
    }
   ],
   "source": [
    "# 使用例（頂点数 6, 辺リスト [(頂点1, 頂点2, 重み)]）\n",
    "n = 6\n",
    "graph = [('A', 'B', 20), ('A', 'D', 5), ('A', 'E', 11),\n",
    "         ('B', 'C', 10), ('B', 'E', 3),\n",
    "         ('C', 'E', 15), ('C', 'F', 7),\n",
    "         ('D', 'E', 10), ('E', 'F', 7)]\n",
    "mst = kruskal(n, graph)\n",
    "print(\"最小全域木:\", mst)  # 最小全域木の辺一覧"
   ]
  },
  {
   "cell_type": "code",
   "execution_count": 31,
   "metadata": {},
   "outputs": [
    {
     "name": "stdout",
     "output_type": "stream",
     "text": [
      "B-E間(3), A-D間(5), C-F間(7), E-F間(7), B-C間(10), D-E間(10), A-E間(11), C-E間(15), A-B間(20), "
     ]
    }
   ],
   "source": [
    "graph.sort(key=lambda x: x[2])\n",
    "for edges in graph:\n",
    "    print(f\"{edges[0]}-{edges[1]}間({edges[2]})\", end=\", \")"
   ]
  }
 ],
 "metadata": {
  "kernelspec": {
   "display_name": "Python 3",
   "language": "python",
   "name": "python3"
  },
  "language_info": {
   "codemirror_mode": {
    "name": "ipython",
    "version": 3
   },
   "file_extension": ".py",
   "mimetype": "text/x-python",
   "name": "python",
   "nbconvert_exporter": "python",
   "pygments_lexer": "ipython3",
   "version": "3.12.8"
  }
 },
 "nbformat": 4,
 "nbformat_minor": 2
}

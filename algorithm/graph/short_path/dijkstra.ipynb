{
 "cells": [
  {
   "cell_type": "markdown",
   "metadata": {},
   "source": [
    "# ダイクストラ法"
   ]
  },
  {
   "cell_type": "code",
   "execution_count": 2,
   "metadata": {},
   "outputs": [],
   "source": [
    "from heapq import heappush, heappop\n",
    "\n",
    "\n",
    "def dijkstra(graph, start):\n",
    "    INF = float(\"inf\")\n",
    "    distances = {node: INF for node in graph}\n",
    "    distances[start] = 0\n",
    "    min_heap = [(0, start)]\n",
    "    while min_heap:\n",
    "        current_distance, current_node = heappop(min_heap)\n",
    "        if current_distance > distances[current_node]:\n",
    "            continue\n",
    "        for neighbor, weight in graph[current_node].items():\n",
    "            distance = current_distance + weight\n",
    "            if distance < distances[neighbor]:\n",
    "                distances[neighbor] = distance\n",
    "                heappush(min_heap, (distance, neighbor))\n",
    "\n",
    "    return distances"
   ]
  },
  {
   "cell_type": "code",
   "execution_count": null,
   "metadata": {},
   "outputs": [],
   "source": [
    "graph = {\n",
    "    'A': {'B': 20, 'D': 5},\n",
    "    'B': {'A': 20, 'C': 10, 'E': 3},\n",
    "    'C': {'B': 10, 'F': 7},\n",
    "    'D': {'A': 5, 'E': 10},\n",
    "    'E': {'B': 3, 'D': 10, 'F': 25},\n",
    "    'F': {'C': 7, 'E': 25},\n",
    "}"
   ]
  },
  {
   "cell_type": "code",
   "execution_count": 6,
   "metadata": {},
   "outputs": [
    {
     "name": "stdout",
     "output_type": "stream",
     "text": [
      "{'A': 0, 'B': 18, 'C': 28, 'D': 5, 'E': 15, 'F': 35}\n"
     ]
    }
   ],
   "source": [
    "start_node = 'A'\n",
    "shortest_paths = dijkstra(graph, start_node)\n",
    "print(shortest_paths)"
   ]
  }
 ],
 "metadata": {
  "kernelspec": {
   "display_name": "Python 3",
   "language": "python",
   "name": "python3"
  },
  "language_info": {
   "codemirror_mode": {
    "name": "ipython",
    "version": 3
   },
   "file_extension": ".py",
   "mimetype": "text/x-python",
   "name": "python",
   "nbconvert_exporter": "python",
   "pygments_lexer": "ipython3",
   "version": "3.12.2"
  }
 },
 "nbformat": 4,
 "nbformat_minor": 2
}

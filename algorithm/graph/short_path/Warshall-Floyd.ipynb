{
 "cells": [
  {
   "cell_type": "markdown",
   "metadata": {},
   "source": [
    "# ワーシャルフロイド"
   ]
  },
  {
   "cell_type": "code",
   "execution_count": null,
   "metadata": {},
   "outputs": [],
   "source": [
    "INF = float('inf')\n",
    "\n",
    "\n",
    "def floyd_warshall(graph):\n",
    "    num_vertices = len(graph)\n",
    "    dist = [row[:] for row in graph]  # グラフのコピー\n",
    "\n",
    "    for via in range(num_vertices):\n",
    "        for start in range(num_vertices):\n",
    "            for end in range(num_vertices):\n",
    "                via_dist = dist[start][via] + dist[via][end]\n",
    "                if via_dist < dist[start][end]:\n",
    "                    dist[start][end] = via_dist\n",
    "\n",
    "    # 負の閉路の検出\n",
    "    for i in range(num_vertices):\n",
    "        if dist[i][i] < 0:\n",
    "            print(\"負の閉路が存在します。\")\n",
    "            return None\n",
    "\n",
    "    return dist"
   ]
  },
  {
   "cell_type": "code",
   "execution_count": null,
   "metadata": {},
   "outputs": [
    {
     "name": "stdout",
     "output_type": "stream",
     "text": [
      "[0, 13, 5, 10]\n",
      "[13, 0, 13, 3]\n",
      "[5, 13, 0, 10]\n",
      "[10, 3, 10, 0]\n"
     ]
    }
   ],
   "source": [
    "# 隣接行列の例\n",
    "adj_matrix = [\n",
    "    [0, 20, 5, 10],\n",
    "    [20, 0, INF, 3],\n",
    "    [5, INF, 0, 10],\n",
    "    [10, 3, 10, 0]\n",
    "]\n",
    "\n",
    "result = floyd_warshall(adj_matrix)\n",
    "if result:\n",
    "    for row in result:\n",
    "        print(row)"
   ]
  }
 ],
 "metadata": {
  "kernelspec": {
   "display_name": "Python 3",
   "language": "python",
   "name": "python3"
  },
  "language_info": {
   "codemirror_mode": {
    "name": "ipython",
    "version": 3
   },
   "file_extension": ".py",
   "mimetype": "text/x-python",
   "name": "python",
   "nbconvert_exporter": "python",
   "pygments_lexer": "ipython3",
   "version": "3.12.8"
  }
 },
 "nbformat": 4,
 "nbformat_minor": 2
}

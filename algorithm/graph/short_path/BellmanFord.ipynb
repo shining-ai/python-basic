{
 "cells": [
  {
   "cell_type": "markdown",
   "metadata": {},
   "source": [
    "# ベルマンフォード法"
   ]
  },
  {
   "cell_type": "code",
   "execution_count": 26,
   "metadata": {},
   "outputs": [],
   "source": [
    "def bellman_ford(vertices_num, edges, start):\n",
    "    distances = [float(\"inf\")] * vertices_num\n",
    "    distances[start] = 0\n",
    "\n",
    "    # (頂点-1) 回 繰り返し\n",
    "    for _ in range(vertices_num - 1):\n",
    "        for u, v, w in edges:  # 辺を順番に処理\n",
    "            new_distancesance = distances[u] + w\n",
    "            if new_distancesance < distances[v]:\n",
    "                distances[v] = new_distancesance\n",
    "\n",
    "    # 負の閉路の検出\n",
    "    for u, v, w in edges:\n",
    "        if distances[u] + w < distances[v]:\n",
    "            print(\"負の閉路が存在します\")\n",
    "            return None\n",
    "\n",
    "    return distances"
   ]
  },
  {
   "cell_type": "code",
   "execution_count": 27,
   "metadata": {},
   "outputs": [
    {
     "name": "stdout",
     "output_type": "stream",
     "text": [
      "[0, 18, 28, 5, 15, 35]\n"
     ]
    }
   ],
   "source": [
    "A = 0\n",
    "B = 1\n",
    "C = 2\n",
    "D = 3\n",
    "E = 4\n",
    "F = 5\n",
    "\n",
    "edges = {\n",
    "    (A, B, 20), (A, D, 5),\n",
    "    (B, A, 20), (B, C, 10), (B, E, 3),\n",
    "    (C, B, 10), (C, F, 7),\n",
    "    (D, A, 5), (D, E, 10),\n",
    "    (E, B, 3), (E, D, 10), (E, F, 25),\n",
    "    (F, C, 7), (F, E, 25),\n",
    "}\n",
    "graph = bellman_ford(6, edges, A)\n",
    "print(graph)"
   ]
  }
 ],
 "metadata": {
  "kernelspec": {
   "display_name": "Python 3",
   "language": "python",
   "name": "python3"
  },
  "language_info": {
   "codemirror_mode": {
    "name": "ipython",
    "version": 3
   },
   "file_extension": ".py",
   "mimetype": "text/x-python",
   "name": "python",
   "nbconvert_exporter": "python",
   "pygments_lexer": "ipython3",
   "version": "3.12.2"
  }
 },
 "nbformat": 4,
 "nbformat_minor": 2
}

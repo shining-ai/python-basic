{
 "cells": [
  {
   "cell_type": "markdown",
   "metadata": {},
   "source": [
    "# 線形探索"
   ]
  },
  {
   "cell_type": "code",
   "execution_count": 2,
   "metadata": {},
   "outputs": [],
   "source": [
    "def linear_search(nums, target):\n",
    "    for i in range(len(nums)):\n",
    "        if nums[i] == target:\n",
    "            return i\n",
    "    return -1"
   ]
  },
  {
   "cell_type": "code",
   "execution_count": 3,
   "metadata": {},
   "outputs": [
    {
     "name": "stdout",
     "output_type": "stream",
     "text": [
      "2\n",
      "6\n",
      "-1\n"
     ]
    }
   ],
   "source": [
    "nums = [1, 2, 3, 4, 5, 6, 7, 8, 9]\n",
    "print(linear_search(nums, 3))\n",
    "print(linear_search(nums, 7))\n",
    "print(linear_search(nums, 0))"
   ]
  },
  {
   "cell_type": "code",
   "execution_count": 4,
   "metadata": {},
   "outputs": [],
   "source": [
    "import time"
   ]
  },
  {
   "cell_type": "code",
   "execution_count": 5,
   "metadata": {},
   "outputs": [],
   "source": [
    "def measure_time(f):\n",
    "    def wrapper(*args, **kwargs):\n",
    "        start = time.perf_counter_ns()\n",
    "        result = f(*args, **kwargs)\n",
    "        end = time.perf_counter_ns()\n",
    "        print(f'{end - start} nano seconds : {f.__name__}')\n",
    "        return result\n",
    "    return wrapper"
   ]
  },
  {
   "cell_type": "code",
   "execution_count": 10,
   "metadata": {},
   "outputs": [],
   "source": [
    "\n",
    "@measure_time\n",
    "def linear_search(nums, target):\n",
    "    i = 0\n",
    "    while i < len(nums):\n",
    "        if nums[i] == target:\n",
    "            return i\n",
    "        i += 1\n",
    "    # for i in range(len(nums)):\n",
    "    #     if nums[i] == target:\n",
    "    #         return i\n",
    "    # return -1\n",
    "\n",
    "\n",
    "@measure_time\n",
    "def linear_search_use_sentinel(nums, target):\n",
    "    nums.append(target)\n",
    "    i = 0\n",
    "    while nums[i] != target:\n",
    "        i += 1\n",
    "    nums.pop()\n",
    "    if i == len(nums):\n",
    "        return -1\n",
    "    return i"
   ]
  },
  {
   "cell_type": "code",
   "execution_count": 18,
   "metadata": {},
   "outputs": [
    {
     "name": "stdout",
     "output_type": "stream",
     "text": [
      "2140 nano seconds : linear_search_use_sentinel\n",
      "2\n",
      "1869 nano seconds : linear_search_use_sentinel\n",
      "6\n",
      "1669 nano seconds : linear_search_use_sentinel\n",
      "-1\n"
     ]
    }
   ],
   "source": [
    "nums = [1, 2, 3, 4, 5, 6, 7, 8, 9]\n",
    "print(linear_search_use_sentinel(nums, 3))\n",
    "print(linear_search_use_sentinel(nums, 7))\n",
    "print(linear_search_use_sentinel(nums, 0))"
   ]
  },
  {
   "cell_type": "code",
   "execution_count": 16,
   "metadata": {},
   "outputs": [
    {
     "name": "stdout",
     "output_type": "stream",
     "text": [
      "2031 nano seconds : linear_search\n",
      "1844 nano seconds : linear_search_use_sentinel\n"
     ]
    },
    {
     "data": {
      "text/plain": [
       "1"
      ]
     },
     "execution_count": 16,
     "metadata": {},
     "output_type": "execute_result"
    }
   ],
   "source": [
    "nums = [i for i in range(10**6)]\n",
    "linear_search(nums, 1)\n",
    "linear_search_use_sentinel(nums, 1)"
   ]
  },
  {
   "cell_type": "code",
   "execution_count": null,
   "metadata": {},
   "outputs": [],
   "source": []
  }
 ],
 "metadata": {
  "kernelspec": {
   "display_name": "Python 3",
   "language": "python",
   "name": "python3"
  },
  "language_info": {
   "codemirror_mode": {
    "name": "ipython",
    "version": 3
   },
   "file_extension": ".py",
   "mimetype": "text/x-python",
   "name": "python",
   "nbconvert_exporter": "python",
   "pygments_lexer": "ipython3",
   "version": "3.12.2"
  }
 },
 "nbformat": 4,
 "nbformat_minor": 2
}

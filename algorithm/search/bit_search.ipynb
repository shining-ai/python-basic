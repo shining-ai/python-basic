{
 "cells": [
  {
   "cell_type": "markdown",
   "metadata": {},
   "source": [
    "# BIT全探索"
   ]
  },
  {
   "cell_type": "code",
   "execution_count": 7,
   "metadata": {},
   "outputs": [
    {
     "name": "stdout",
     "output_type": "stream",
     "text": [
      "000: []\n",
      "001: ['A']\n",
      "010: ['B']\n",
      "011: ['A', 'B']\n",
      "100: ['C']\n",
      "101: ['A', 'C']\n",
      "110: ['B', 'C']\n",
      "111: ['A', 'B', 'C']\n"
     ]
    }
   ],
   "source": [
    "S = ['A', 'B', 'C']\n",
    "N = len(S)\n",
    "\n",
    "for bit in range(1 << N):\n",
    "    subset = []\n",
    "    for i in range(N):\n",
    "        if bit & (1 << i):  # i 番目の要素が選択されているか判定\n",
    "            subset.append(S[i])\n",
    "    print(f\"{bit:03b}: {subset}\")"
   ]
  }
 ],
 "metadata": {
  "kernelspec": {
   "display_name": "Python 3",
   "language": "python",
   "name": "python3"
  },
  "language_info": {
   "codemirror_mode": {
    "name": "ipython",
    "version": 3
   },
   "file_extension": ".py",
   "mimetype": "text/x-python",
   "name": "python",
   "nbconvert_exporter": "python",
   "pygments_lexer": "ipython3",
   "version": "3.12.8"
  }
 },
 "nbformat": 4,
 "nbformat_minor": 2
}

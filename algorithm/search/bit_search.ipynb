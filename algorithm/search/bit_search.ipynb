{
 "cells": [
  {
   "cell_type": "markdown",
   "metadata": {},
   "source": [
    "# BIT全探索"
   ]
  },
  {
   "cell_type": "code",
   "execution_count": 1,
   "metadata": {},
   "outputs": [
    {
     "name": "stdout",
     "output_type": "stream",
     "text": [
      "[]\n",
      "[0]\n",
      "[1]\n",
      "[0, 1]\n",
      "[2]\n",
      "[0, 2]\n",
      "[1, 2]\n",
      "[0, 1, 2]\n"
     ]
    }
   ],
   "source": [
    "n = 3  # 集合の要素数\n",
    "for i in range(1 << n):  # 0 から 2^n - 1 までの値を取り扱う\n",
    "    subset = []\n",
    "    for j in range(n):\n",
    "        if i & (1 << j):\n",
    "            subset.append(j)  # j 番目の要素が含まれている\n",
    "    print(subset)"
   ]
  },
  {
   "cell_type": "code",
   "execution_count": 11,
   "metadata": {},
   "outputs": [
    {
     "name": "stdout",
     "output_type": "stream",
     "text": [
      "000\n",
      "0 001\n",
      "1 010\n",
      "0 1 011\n",
      "2 100\n",
      "0 2 101\n",
      "1 2 110\n",
      "0 1 2 111\n"
     ]
    }
   ],
   "source": [
    "n = 3  # 集合の要素数\n",
    "for i in range(1 << n):  # 0 から 2^n - 1 までの値を取り扱う\n",
    "    for j in range(n):\n",
    "        if i & (1 << j):\n",
    "            print(j, end=' ')\n",
    "    print(bin(i)[2:].zfill(n))"
   ]
  },
  {
   "cell_type": "code",
   "execution_count": 20,
   "metadata": {},
   "outputs": [
    {
     "name": "stdout",
     "output_type": "stream",
     "text": [
      "101\n",
      "1\n",
      "0\n",
      "1\n"
     ]
    }
   ],
   "source": [
    "n = 3\n",
    "bit = 5\n",
    "print(bin(bit)[2:].zfill(n))\n",
    "\n",
    "for i in range(n):\n",
    "    print(bit >> i & 1)"
   ]
  },
  {
   "cell_type": "code",
   "execution_count": null,
   "metadata": {},
   "outputs": [],
   "source": []
  }
 ],
 "metadata": {
  "kernelspec": {
   "display_name": "Python 3",
   "language": "python",
   "name": "python3"
  },
  "language_info": {
   "codemirror_mode": {
    "name": "ipython",
    "version": 3
   },
   "file_extension": ".py",
   "mimetype": "text/x-python",
   "name": "python",
   "nbconvert_exporter": "python",
   "pygments_lexer": "ipython3",
   "version": "3.12.2"
  }
 },
 "nbformat": 4,
 "nbformat_minor": 2
}

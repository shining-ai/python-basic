{
 "cells": [
  {
   "cell_type": "markdown",
   "metadata": {},
   "source": [
    "# シェルソート"
   ]
  },
  {
   "cell_type": "code",
   "execution_count": 40,
   "metadata": {},
   "outputs": [],
   "source": [
    "def selection_sort(nums, start, gap):\n",
    "    for unsorted_head in range(start + gap, len(nums), gap):\n",
    "        for i in range(unsorted_head, start, -gap):\n",
    "            if nums[i - gap] <= nums[i]:\n",
    "                break\n",
    "            nums[i], nums[i - gap] = nums[i - gap], nums[i]\n",
    "\n",
    "\n",
    "def shell_sort(nums):\n",
    "    gap = len(nums) // 2\n",
    "    while gap > 0:\n",
    "        for start in range(gap):\n",
    "            selection_sort(nums, start, gap)\n",
    "        gap //= 2"
   ]
  },
  {
   "cell_type": "code",
   "execution_count": 41,
   "metadata": {},
   "outputs": [
    {
     "name": "stdout",
     "output_type": "stream",
     "text": [
      "[1, 2, 3, 4, 5, 6, 7, 8, 9]\n"
     ]
    }
   ],
   "source": [
    "nums = [8, 6, 3, 5, 9, 2, 1, 4, 7]\n",
    "shell_sort(nums)\n",
    "print(nums)"
   ]
  }
 ],
 "metadata": {
  "kernelspec": {
   "display_name": "Python 3",
   "language": "python",
   "name": "python3"
  },
  "language_info": {
   "codemirror_mode": {
    "name": "ipython",
    "version": 3
   },
   "file_extension": ".py",
   "mimetype": "text/x-python",
   "name": "python",
   "nbconvert_exporter": "python",
   "pygments_lexer": "ipython3",
   "version": "3.12.2"
  }
 },
 "nbformat": 4,
 "nbformat_minor": 2
}

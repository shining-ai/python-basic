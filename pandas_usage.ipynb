{
 "cells": [
  {
   "cell_type": "code",
   "execution_count": 2,
   "metadata": {},
   "outputs": [],
   "source": [
    "import pandas as pd"
   ]
  },
  {
   "attachments": {},
   "cell_type": "markdown",
   "metadata": {},
   "source": [
    "## データフレームの作成"
   ]
  },
  {
   "cell_type": "code",
   "execution_count": 42,
   "metadata": {},
   "outputs": [
    {
     "data": {
      "text/html": [
       "<div>\n",
       "<style scoped>\n",
       "    .dataframe tbody tr th:only-of-type {\n",
       "        vertical-align: middle;\n",
       "    }\n",
       "\n",
       "    .dataframe tbody tr th {\n",
       "        vertical-align: top;\n",
       "    }\n",
       "\n",
       "    .dataframe thead th {\n",
       "        text-align: right;\n",
       "    }\n",
       "</style>\n",
       "<table border=\"1\" class=\"dataframe\">\n",
       "  <thead>\n",
       "    <tr style=\"text-align: right;\">\n",
       "      <th></th>\n",
       "      <th>Name</th>\n",
       "      <th>Age</th>\n",
       "    </tr>\n",
       "  </thead>\n",
       "  <tbody>\n",
       "    <tr>\n",
       "      <th>0</th>\n",
       "      <td>Taro</td>\n",
       "      <td>20</td>\n",
       "    </tr>\n",
       "    <tr>\n",
       "      <th>1</th>\n",
       "      <td>Hanako</td>\n",
       "      <td>30</td>\n",
       "    </tr>\n",
       "    <tr>\n",
       "      <th>2</th>\n",
       "      <td>Jiro</td>\n",
       "      <td>40</td>\n",
       "    </tr>\n",
       "  </tbody>\n",
       "</table>\n",
       "</div>"
      ],
      "text/plain": [
       "     Name  Age\n",
       "0    Taro   20\n",
       "1  Hanako   30\n",
       "2    Jiro   40"
      ]
     },
     "execution_count": 42,
     "metadata": {},
     "output_type": "execute_result"
    }
   ],
   "source": [
    "# データフレームの作成\n",
    "df = pd.DataFrame()\n",
    "\n",
    "# 列の追加\n",
    "df[\"Name\"] = [\"Taro\", \"Hanako\"]\n",
    "df[\"Age\"] = [20, 30]\n",
    "\n",
    "# 行の作成\n",
    "new_person = pd.DataFrame(\n",
    "    {\n",
    "        \"Name\": [\"Jiro\"],\n",
    "        \"Age\": [30],\n",
    "    }\n",
    ")\n",
    "\n",
    "# 行の追加\n",
    "df = pd.concat([df, new_person], ignore_index=True, axis=0)\n",
    "\n",
    "# データフレームの表示\n",
    "df"
   ]
  },
  {
   "attachments": {},
   "cell_type": "markdown",
   "metadata": {},
   "source": [
    "## データの性質を取得"
   ]
  },
  {
   "cell_type": "code",
   "execution_count": 46,
   "metadata": {},
   "outputs": [
    {
     "name": "stdout",
     "output_type": "stream",
     "text": [
      "     Name  Age\n",
      "0    Taro   20\n",
      "1  Hanako   30\n",
      "(3, 2)\n",
      "        Age\n",
      "count   3.0\n",
      "mean   30.0\n",
      "std    10.0\n",
      "min    20.0\n",
      "25%    25.0\n",
      "50%    30.0\n",
      "75%    35.0\n",
      "max    40.0\n"
     ]
    }
   ],
   "source": [
    "# 最初の2行を表示\n",
    "print(df.head(2))\n",
    "\n",
    "# データの形状を表示\n",
    "print(df.shape)\n",
    "\n",
    "# 統計量を表示\n",
    "print(df.describe())"
   ]
  },
  {
   "attachments": {},
   "cell_type": "markdown",
   "metadata": {},
   "source": [
    "## DataFrameの操作"
   ]
  },
  {
   "cell_type": "code",
   "execution_count": 116,
   "metadata": {},
   "outputs": [
    {
     "name": "stdout",
     "output_type": "stream",
     "text": [
      "Age    20\n",
      "Name: Taro, dtype: int64\n",
      "Age    30\n",
      "Name: Hanako, dtype: int64\n",
      "        Age\n",
      "Name       \n",
      "Hanako   30\n",
      "Jiro     30\n",
      "        Age\n",
      "Name       \n",
      "Taro     20\n",
      "Hanako   40\n",
      "Jiro     40\n",
      "        年齢\n",
      "Name      \n",
      "Taro    20\n",
      "Hanako  30\n",
      "Jiro    30\n"
     ]
    }
   ],
   "source": [
    "# データフレームの作成\n",
    "df = pd.DataFrame()\n",
    "\n",
    "# 列の追加\n",
    "df[\"Name\"] = [\"Taro\", \"Hanako\", \"Jiro\"]\n",
    "df[\"Age\"] = [20, 30, 30]\n",
    "\n",
    "# indexを指定\n",
    "df.set_index(\"Name\",inplace=True)\n",
    "\n",
    "# 行数から特定の行を取得\n",
    "print(df.iloc[0])\n",
    "\n",
    "# indexから特定の行を取得\n",
    "print(df.loc[\"Hanako\"])\n",
    "\n",
    "# 条件から行を取得\n",
    "print(df[df[\"Age\"] == 30])\n",
    "\n",
    "# 値の置き換え\n",
    "print(df.replace(30,40))\n",
    "\n",
    "# 列の名前を変更\n",
    "print(df.rename(columns={\"Age\": \"年齢\"}))"
   ]
  },
  {
   "attachments": {},
   "cell_type": "markdown",
   "metadata": {},
   "source": [
    "## 行・列の削除"
   ]
  },
  {
   "cell_type": "code",
   "execution_count": 119,
   "metadata": {},
   "outputs": [
    {
     "name": "stdout",
     "output_type": "stream",
     "text": [
      "     Name  Age\n",
      "0    Taro   20\n",
      "1  Hanako   30\n",
      "2    Jiro   30\n",
      "3    Jiro   30\n",
      "     Name\n",
      "0    Taro\n",
      "1  Hanako\n",
      "2    Jiro\n",
      "3    Jiro\n",
      "   Name  Age\n",
      "0  Taro   20\n",
      "2  Jiro   30\n",
      "3  Jiro   30\n",
      "     Name  Age\n",
      "0    Taro   20\n",
      "1  Hanako   30\n",
      "2    Jiro   30\n"
     ]
    }
   ],
   "source": [
    "# データフレームの作成\n",
    "df = pd.DataFrame()\n",
    "\n",
    "# 列の追加\n",
    "df[\"Name\"] = [\"Taro\", \"Hanako\", \"Jiro\", \"Jiro\"]\n",
    "df[\"Age\"] = [20, 30, 30, 30]\n",
    "\n",
    "print(df)\n",
    "\n",
    "# 列の削除\n",
    "print(df.drop(\"Age\", axis=1))\n",
    "\n",
    "# 行の削除\n",
    "print(df.drop(1, axis=0))\n",
    "\n",
    "# 重複した行の削除\n",
    "print(df.drop_duplicates())"
   ]
  },
  {
   "attachments": {},
   "cell_type": "markdown",
   "metadata": {},
   "source": [
    "## 最大・最小・合計・平均を算出"
   ]
  },
  {
   "cell_type": "code",
   "execution_count": 77,
   "metadata": {},
   "outputs": [
    {
     "name": "stdout",
     "output_type": "stream",
     "text": [
      "30\n",
      "20\n",
      "26.666666666666668\n",
      "80\n",
      "3\n"
     ]
    }
   ],
   "source": [
    "print(df[\"Age\"].max())\n",
    "print(df[\"Age\"].min())\n",
    "print(df[\"Age\"].mean())\n",
    "print(df[\"Age\"].sum())\n",
    "print(df[\"Age\"].count())\n"
   ]
  },
  {
   "attachments": {},
   "cell_type": "markdown",
   "metadata": {},
   "source": [
    "## ユニークな値の算出"
   ]
  },
  {
   "cell_type": "code",
   "execution_count": 95,
   "metadata": {},
   "outputs": [
    {
     "name": "stdout",
     "output_type": "stream",
     "text": [
      "[20 30]\n",
      "30    2\n",
      "20    1\n",
      "Name: Age, dtype: int64\n"
     ]
    }
   ],
   "source": [
    "# ユニークな値の抽出\n",
    "print(df[\"Age\"].unique())\n",
    "\n",
    "# データのカウント\n",
    "print(df[\"Age\"].value_counts())"
   ]
  },
  {
   "attachments": {},
   "cell_type": "markdown",
   "metadata": {},
   "source": [
    "## 欠損データの取扱"
   ]
  },
  {
   "cell_type": "code",
   "execution_count": 103,
   "metadata": {},
   "outputs": [
    {
     "name": "stdout",
     "output_type": "stream",
     "text": [
      "    Name    Age\n",
      "0  False  False\n",
      "1  False  False\n",
      "2  False   True\n",
      "Name   Age  \n",
      "False  False    2\n",
      "       True     1\n",
      "dtype: int64\n"
     ]
    }
   ],
   "source": [
    "# データフレームの作成\n",
    "df = pd.DataFrame()\n",
    "\n",
    "# 列の追加\n",
    "df[\"Name\"] = [\"Taro\", \"Hanako\", \"Jiro\"]\n",
    "df[\"Age\"] = [20, 30, None]\n",
    "\n",
    "# null値の確認\n",
    "print(df.isnull())\n"
   ]
  },
  {
   "cell_type": "markdown",
   "metadata": {},
   "source": []
  },
  {
   "cell_type": "code",
   "execution_count": null,
   "metadata": {},
   "outputs": [],
   "source": []
  }
 ],
 "metadata": {
  "kernelspec": {
   "display_name": "Python 3",
   "language": "python",
   "name": "python3"
  },
  "language_info": {
   "codemirror_mode": {
    "name": "ipython",
    "version": 3
   },
   "file_extension": ".py",
   "mimetype": "text/x-python",
   "name": "python",
   "nbconvert_exporter": "python",
   "pygments_lexer": "ipython3",
   "version": "3.8.10"
  },
  "orig_nbformat": 4
 },
 "nbformat": 4,
 "nbformat_minor": 2
}
